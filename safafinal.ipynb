{
 "cells": [
  {
   "cell_type": "markdown",
   "id": "93888fd4",
   "metadata": {},
   "source": [
    "## Final Project\n",
    "### In order to solve this set of questions you will use the dataset in the relative directory ./tmdb_5000_movies.csv\n"
   ]
  },
  {
   "cell_type": "code",
   "execution_count": 2,
   "id": "8127e1af",
   "metadata": {},
   "outputs": [
    {
     "data": {
      "text/html": [
       "<div>\n",
       "<style scoped>\n",
       "    .dataframe tbody tr th:only-of-type {\n",
       "        vertical-align: middle;\n",
       "    }\n",
       "\n",
       "    .dataframe tbody tr th {\n",
       "        vertical-align: top;\n",
       "    }\n",
       "\n",
       "    .dataframe thead th {\n",
       "        text-align: right;\n",
       "    }\n",
       "</style>\n",
       "<table border=\"1\" class=\"dataframe\">\n",
       "  <thead>\n",
       "    <tr style=\"text-align: right;\">\n",
       "      <th></th>\n",
       "      <th>budget</th>\n",
       "      <th>genres</th>\n",
       "      <th>homepage</th>\n",
       "      <th>id</th>\n",
       "      <th>keywords</th>\n",
       "      <th>original_language</th>\n",
       "      <th>original_title</th>\n",
       "      <th>overview</th>\n",
       "      <th>popularity</th>\n",
       "      <th>production_companies</th>\n",
       "      <th>production_countries</th>\n",
       "      <th>release_date</th>\n",
       "      <th>revenue</th>\n",
       "      <th>runtime</th>\n",
       "      <th>spoken_languages</th>\n",
       "      <th>status</th>\n",
       "      <th>tagline</th>\n",
       "      <th>title</th>\n",
       "      <th>vote_average</th>\n",
       "      <th>vote_count</th>\n",
       "    </tr>\n",
       "  </thead>\n",
       "  <tbody>\n",
       "    <tr>\n",
       "      <th>0</th>\n",
       "      <td>237000000</td>\n",
       "      <td>[{\"id\": 28, \"name\": \"Action\"}, {\"id\": 12, \"nam...</td>\n",
       "      <td>http://www.avatarmovie.com/</td>\n",
       "      <td>19995</td>\n",
       "      <td>[{\"id\": 1463, \"name\": \"culture clash\"}, {\"id\":...</td>\n",
       "      <td>en</td>\n",
       "      <td>Avatar</td>\n",
       "      <td>In the 22nd century, a paraplegic Marine is di...</td>\n",
       "      <td>150.437577</td>\n",
       "      <td>[{\"name\": \"Ingenious Film Partners\", \"id\": 289...</td>\n",
       "      <td>[{\"iso_3166_1\": \"US\", \"name\": \"United States o...</td>\n",
       "      <td>2009-12-10</td>\n",
       "      <td>2787965087</td>\n",
       "      <td>162.0</td>\n",
       "      <td>[{\"iso_639_1\": \"en\", \"name\": \"English\"}, {\"iso...</td>\n",
       "      <td>Released</td>\n",
       "      <td>Enter the World of Pandora.</td>\n",
       "      <td>Avatar</td>\n",
       "      <td>7.2</td>\n",
       "      <td>11800</td>\n",
       "    </tr>\n",
       "    <tr>\n",
       "      <th>1</th>\n",
       "      <td>300000000</td>\n",
       "      <td>[{\"id\": 12, \"name\": \"Adventure\"}, {\"id\": 14, \"...</td>\n",
       "      <td>http://disney.go.com/disneypictures/pirates/</td>\n",
       "      <td>285</td>\n",
       "      <td>[{\"id\": 270, \"name\": \"ocean\"}, {\"id\": 726, \"na...</td>\n",
       "      <td>en</td>\n",
       "      <td>Pirates of the Caribbean: At World's End</td>\n",
       "      <td>Captain Barbossa, long believed to be dead, ha...</td>\n",
       "      <td>139.082615</td>\n",
       "      <td>[{\"name\": \"Walt Disney Pictures\", \"id\": 2}, {\"...</td>\n",
       "      <td>[{\"iso_3166_1\": \"US\", \"name\": \"United States o...</td>\n",
       "      <td>2007-05-19</td>\n",
       "      <td>961000000</td>\n",
       "      <td>169.0</td>\n",
       "      <td>[{\"iso_639_1\": \"en\", \"name\": \"English\"}]</td>\n",
       "      <td>Released</td>\n",
       "      <td>At the end of the world, the adventure begins.</td>\n",
       "      <td>Pirates of the Caribbean: At World's End</td>\n",
       "      <td>6.9</td>\n",
       "      <td>4500</td>\n",
       "    </tr>\n",
       "    <tr>\n",
       "      <th>2</th>\n",
       "      <td>245000000</td>\n",
       "      <td>[{\"id\": 28, \"name\": \"Action\"}, {\"id\": 12, \"nam...</td>\n",
       "      <td>http://www.sonypictures.com/movies/spectre/</td>\n",
       "      <td>206647</td>\n",
       "      <td>[{\"id\": 470, \"name\": \"spy\"}, {\"id\": 818, \"name...</td>\n",
       "      <td>en</td>\n",
       "      <td>Spectre</td>\n",
       "      <td>A cryptic message from Bond’s past sends him o...</td>\n",
       "      <td>107.376788</td>\n",
       "      <td>[{\"name\": \"Columbia Pictures\", \"id\": 5}, {\"nam...</td>\n",
       "      <td>[{\"iso_3166_1\": \"GB\", \"name\": \"United Kingdom\"...</td>\n",
       "      <td>2015-10-26</td>\n",
       "      <td>880674609</td>\n",
       "      <td>148.0</td>\n",
       "      <td>[{\"iso_639_1\": \"fr\", \"name\": \"Fran\\u00e7ais\"},...</td>\n",
       "      <td>Released</td>\n",
       "      <td>A Plan No One Escapes</td>\n",
       "      <td>Spectre</td>\n",
       "      <td>6.3</td>\n",
       "      <td>4466</td>\n",
       "    </tr>\n",
       "    <tr>\n",
       "      <th>3</th>\n",
       "      <td>250000000</td>\n",
       "      <td>[{\"id\": 28, \"name\": \"Action\"}, {\"id\": 80, \"nam...</td>\n",
       "      <td>http://www.thedarkknightrises.com/</td>\n",
       "      <td>49026</td>\n",
       "      <td>[{\"id\": 849, \"name\": \"dc comics\"}, {\"id\": 853,...</td>\n",
       "      <td>en</td>\n",
       "      <td>The Dark Knight Rises</td>\n",
       "      <td>Following the death of District Attorney Harve...</td>\n",
       "      <td>112.312950</td>\n",
       "      <td>[{\"name\": \"Legendary Pictures\", \"id\": 923}, {\"...</td>\n",
       "      <td>[{\"iso_3166_1\": \"US\", \"name\": \"United States o...</td>\n",
       "      <td>2012-07-16</td>\n",
       "      <td>1084939099</td>\n",
       "      <td>165.0</td>\n",
       "      <td>[{\"iso_639_1\": \"en\", \"name\": \"English\"}]</td>\n",
       "      <td>Released</td>\n",
       "      <td>The Legend Ends</td>\n",
       "      <td>The Dark Knight Rises</td>\n",
       "      <td>7.6</td>\n",
       "      <td>9106</td>\n",
       "    </tr>\n",
       "    <tr>\n",
       "      <th>4</th>\n",
       "      <td>260000000</td>\n",
       "      <td>[{\"id\": 28, \"name\": \"Action\"}, {\"id\": 12, \"nam...</td>\n",
       "      <td>http://movies.disney.com/john-carter</td>\n",
       "      <td>49529</td>\n",
       "      <td>[{\"id\": 818, \"name\": \"based on novel\"}, {\"id\":...</td>\n",
       "      <td>en</td>\n",
       "      <td>John Carter</td>\n",
       "      <td>John Carter is a war-weary, former military ca...</td>\n",
       "      <td>43.926995</td>\n",
       "      <td>[{\"name\": \"Walt Disney Pictures\", \"id\": 2}]</td>\n",
       "      <td>[{\"iso_3166_1\": \"US\", \"name\": \"United States o...</td>\n",
       "      <td>2012-03-07</td>\n",
       "      <td>284139100</td>\n",
       "      <td>132.0</td>\n",
       "      <td>[{\"iso_639_1\": \"en\", \"name\": \"English\"}]</td>\n",
       "      <td>Released</td>\n",
       "      <td>Lost in our world, found in another.</td>\n",
       "      <td>John Carter</td>\n",
       "      <td>6.1</td>\n",
       "      <td>2124</td>\n",
       "    </tr>\n",
       "  </tbody>\n",
       "</table>\n",
       "</div>"
      ],
      "text/plain": [
       "      budget                                             genres  \\\n",
       "0  237000000  [{\"id\": 28, \"name\": \"Action\"}, {\"id\": 12, \"nam...   \n",
       "1  300000000  [{\"id\": 12, \"name\": \"Adventure\"}, {\"id\": 14, \"...   \n",
       "2  245000000  [{\"id\": 28, \"name\": \"Action\"}, {\"id\": 12, \"nam...   \n",
       "3  250000000  [{\"id\": 28, \"name\": \"Action\"}, {\"id\": 80, \"nam...   \n",
       "4  260000000  [{\"id\": 28, \"name\": \"Action\"}, {\"id\": 12, \"nam...   \n",
       "\n",
       "                                       homepage      id  \\\n",
       "0                   http://www.avatarmovie.com/   19995   \n",
       "1  http://disney.go.com/disneypictures/pirates/     285   \n",
       "2   http://www.sonypictures.com/movies/spectre/  206647   \n",
       "3            http://www.thedarkknightrises.com/   49026   \n",
       "4          http://movies.disney.com/john-carter   49529   \n",
       "\n",
       "                                            keywords original_language  \\\n",
       "0  [{\"id\": 1463, \"name\": \"culture clash\"}, {\"id\":...                en   \n",
       "1  [{\"id\": 270, \"name\": \"ocean\"}, {\"id\": 726, \"na...                en   \n",
       "2  [{\"id\": 470, \"name\": \"spy\"}, {\"id\": 818, \"name...                en   \n",
       "3  [{\"id\": 849, \"name\": \"dc comics\"}, {\"id\": 853,...                en   \n",
       "4  [{\"id\": 818, \"name\": \"based on novel\"}, {\"id\":...                en   \n",
       "\n",
       "                             original_title  \\\n",
       "0                                    Avatar   \n",
       "1  Pirates of the Caribbean: At World's End   \n",
       "2                                   Spectre   \n",
       "3                     The Dark Knight Rises   \n",
       "4                               John Carter   \n",
       "\n",
       "                                            overview  popularity  \\\n",
       "0  In the 22nd century, a paraplegic Marine is di...  150.437577   \n",
       "1  Captain Barbossa, long believed to be dead, ha...  139.082615   \n",
       "2  A cryptic message from Bond’s past sends him o...  107.376788   \n",
       "3  Following the death of District Attorney Harve...  112.312950   \n",
       "4  John Carter is a war-weary, former military ca...   43.926995   \n",
       "\n",
       "                                production_companies  \\\n",
       "0  [{\"name\": \"Ingenious Film Partners\", \"id\": 289...   \n",
       "1  [{\"name\": \"Walt Disney Pictures\", \"id\": 2}, {\"...   \n",
       "2  [{\"name\": \"Columbia Pictures\", \"id\": 5}, {\"nam...   \n",
       "3  [{\"name\": \"Legendary Pictures\", \"id\": 923}, {\"...   \n",
       "4        [{\"name\": \"Walt Disney Pictures\", \"id\": 2}]   \n",
       "\n",
       "                                production_countries release_date     revenue  \\\n",
       "0  [{\"iso_3166_1\": \"US\", \"name\": \"United States o...   2009-12-10  2787965087   \n",
       "1  [{\"iso_3166_1\": \"US\", \"name\": \"United States o...   2007-05-19   961000000   \n",
       "2  [{\"iso_3166_1\": \"GB\", \"name\": \"United Kingdom\"...   2015-10-26   880674609   \n",
       "3  [{\"iso_3166_1\": \"US\", \"name\": \"United States o...   2012-07-16  1084939099   \n",
       "4  [{\"iso_3166_1\": \"US\", \"name\": \"United States o...   2012-03-07   284139100   \n",
       "\n",
       "   runtime                                   spoken_languages    status  \\\n",
       "0    162.0  [{\"iso_639_1\": \"en\", \"name\": \"English\"}, {\"iso...  Released   \n",
       "1    169.0           [{\"iso_639_1\": \"en\", \"name\": \"English\"}]  Released   \n",
       "2    148.0  [{\"iso_639_1\": \"fr\", \"name\": \"Fran\\u00e7ais\"},...  Released   \n",
       "3    165.0           [{\"iso_639_1\": \"en\", \"name\": \"English\"}]  Released   \n",
       "4    132.0           [{\"iso_639_1\": \"en\", \"name\": \"English\"}]  Released   \n",
       "\n",
       "                                          tagline  \\\n",
       "0                     Enter the World of Pandora.   \n",
       "1  At the end of the world, the adventure begins.   \n",
       "2                           A Plan No One Escapes   \n",
       "3                                 The Legend Ends   \n",
       "4            Lost in our world, found in another.   \n",
       "\n",
       "                                      title  vote_average  vote_count  \n",
       "0                                    Avatar           7.2       11800  \n",
       "1  Pirates of the Caribbean: At World's End           6.9        4500  \n",
       "2                                   Spectre           6.3        4466  \n",
       "3                     The Dark Knight Rises           7.6        9106  \n",
       "4                               John Carter           6.1        2124  "
      ]
     },
     "execution_count": 2,
     "metadata": {},
     "output_type": "execute_result"
    }
   ],
   "source": [
    "import numpy as np\n",
    "import pandas as pd\n",
    "import matplotlib.pyplot as plt\n",
    "\n",
    "import seaborn as sns  # For better-looking plots\n",
    "\n",
    "# Ensure plots display inline in Jupyter Notebook\n",
    "%matplotlib inline\n",
    "data = pd.read_csv('./tmdb_5000_movies.csv')\n",
    "data.head()"
   ]
  },
  {
   "cell_type": "markdown",
   "id": "10389df5",
   "metadata": {},
   "source": [
    "### Open Your CSV file and print the first 10 rows in a good format ###"
   ]
  },
  {
   "cell_type": "code",
   "execution_count": null,
   "id": "d5b09cac",
   "metadata": {
    "collapsed": true,
    "jupyter": {
     "outputs_hidden": true
    }
   },
   "outputs": [
    {
     "name": "stdout",
     "output_type": "stream",
     "text": [
      "      budget                                             genres  \\\n",
      "0  237000000  [{\"id\": 28, \"name\": \"Action\"}, {\"id\": 12, \"nam...   \n",
      "1  300000000  [{\"id\": 12, \"name\": \"Adventure\"}, {\"id\": 14, \"...   \n",
      "2  245000000  [{\"id\": 28, \"name\": \"Action\"}, {\"id\": 12, \"nam...   \n",
      "3  250000000  [{\"id\": 28, \"name\": \"Action\"}, {\"id\": 80, \"nam...   \n",
      "4  260000000  [{\"id\": 28, \"name\": \"Action\"}, {\"id\": 12, \"nam...   \n",
      "5  258000000  [{\"id\": 14, \"name\": \"Fantasy\"}, {\"id\": 28, \"na...   \n",
      "6  260000000  [{\"id\": 16, \"name\": \"Animation\"}, {\"id\": 10751...   \n",
      "7  280000000  [{\"id\": 28, \"name\": \"Action\"}, {\"id\": 12, \"nam...   \n",
      "8  250000000  [{\"id\": 12, \"name\": \"Adventure\"}, {\"id\": 14, \"...   \n",
      "9  250000000  [{\"id\": 28, \"name\": \"Action\"}, {\"id\": 12, \"nam...   \n",
      "\n",
      "                                            homepage      id  \\\n",
      "0                        http://www.avatarmovie.com/   19995   \n",
      "1       http://disney.go.com/disneypictures/pirates/     285   \n",
      "2        http://www.sonypictures.com/movies/spectre/  206647   \n",
      "3                 http://www.thedarkknightrises.com/   49026   \n",
      "4               http://movies.disney.com/john-carter   49529   \n",
      "5    http://www.sonypictures.com/movies/spider-man3/     559   \n",
      "6       http://disney.go.com/disneypictures/tangled/   38757   \n",
      "7  http://marvel.com/movies/movie/193/avengers_ag...   99861   \n",
      "8  http://harrypotter.warnerbros.com/harrypottera...     767   \n",
      "9       http://www.batmanvsupermandawnofjustice.com/  209112   \n",
      "\n",
      "                                            keywords original_language  \\\n",
      "0  [{\"id\": 1463, \"name\": \"culture clash\"}, {\"id\":...                en   \n",
      "1  [{\"id\": 270, \"name\": \"ocean\"}, {\"id\": 726, \"na...                en   \n",
      "2  [{\"id\": 470, \"name\": \"spy\"}, {\"id\": 818, \"name...                en   \n",
      "3  [{\"id\": 849, \"name\": \"dc comics\"}, {\"id\": 853,...                en   \n",
      "4  [{\"id\": 818, \"name\": \"based on novel\"}, {\"id\":...                en   \n",
      "5  [{\"id\": 851, \"name\": \"dual identity\"}, {\"id\": ...                en   \n",
      "6  [{\"id\": 1562, \"name\": \"hostage\"}, {\"id\": 2343,...                en   \n",
      "7  [{\"id\": 8828, \"name\": \"marvel comic\"}, {\"id\": ...                en   \n",
      "8  [{\"id\": 616, \"name\": \"witch\"}, {\"id\": 2343, \"n...                en   \n",
      "9  [{\"id\": 849, \"name\": \"dc comics\"}, {\"id\": 7002...                en   \n",
      "\n",
      "                             original_title  \\\n",
      "0                                    Avatar   \n",
      "1  Pirates of the Caribbean: At World's End   \n",
      "2                                   Spectre   \n",
      "3                     The Dark Knight Rises   \n",
      "4                               John Carter   \n",
      "5                              Spider-Man 3   \n",
      "6                                   Tangled   \n",
      "7                   Avengers: Age of Ultron   \n",
      "8    Harry Potter and the Half-Blood Prince   \n",
      "9        Batman v Superman: Dawn of Justice   \n",
      "\n",
      "                                            overview  popularity  \\\n",
      "0  In the 22nd century, a paraplegic Marine is di...  150.437577   \n",
      "1  Captain Barbossa, long believed to be dead, ha...  139.082615   \n",
      "2  A cryptic message from Bond’s past sends him o...  107.376788   \n",
      "3  Following the death of District Attorney Harve...  112.312950   \n",
      "4  John Carter is a war-weary, former military ca...   43.926995   \n",
      "5  The seemingly invincible Spider-Man goes up ag...  115.699814   \n",
      "6  When the kingdom's most wanted-and most charmi...   48.681969   \n",
      "7  When Tony Stark tries to jumpstart a dormant p...  134.279229   \n",
      "8  As Harry begins his sixth year at Hogwarts, he...   98.885637   \n",
      "9  Fearing the actions of a god-like Super Hero l...  155.790452   \n",
      "\n",
      "                                production_companies  \\\n",
      "0  [{\"name\": \"Ingenious Film Partners\", \"id\": 289...   \n",
      "1  [{\"name\": \"Walt Disney Pictures\", \"id\": 2}, {\"...   \n",
      "2  [{\"name\": \"Columbia Pictures\", \"id\": 5}, {\"nam...   \n",
      "3  [{\"name\": \"Legendary Pictures\", \"id\": 923}, {\"...   \n",
      "4        [{\"name\": \"Walt Disney Pictures\", \"id\": 2}]   \n",
      "5  [{\"name\": \"Columbia Pictures\", \"id\": 5}, {\"nam...   \n",
      "6  [{\"name\": \"Walt Disney Pictures\", \"id\": 2}, {\"...   \n",
      "7  [{\"name\": \"Marvel Studios\", \"id\": 420}, {\"name...   \n",
      "8  [{\"name\": \"Warner Bros.\", \"id\": 6194}, {\"name\"...   \n",
      "9  [{\"name\": \"DC Comics\", \"id\": 429}, {\"name\": \"A...   \n",
      "\n",
      "                                production_countries release_date     revenue  \\\n",
      "0  [{\"iso_3166_1\": \"US\", \"name\": \"United States o...   2009-12-10  2787965087   \n",
      "1  [{\"iso_3166_1\": \"US\", \"name\": \"United States o...   2007-05-19   961000000   \n",
      "2  [{\"iso_3166_1\": \"GB\", \"name\": \"United Kingdom\"...   2015-10-26   880674609   \n",
      "3  [{\"iso_3166_1\": \"US\", \"name\": \"United States o...   2012-07-16  1084939099   \n",
      "4  [{\"iso_3166_1\": \"US\", \"name\": \"United States o...   2012-03-07   284139100   \n",
      "5  [{\"iso_3166_1\": \"US\", \"name\": \"United States o...   2007-05-01   890871626   \n",
      "6  [{\"iso_3166_1\": \"US\", \"name\": \"United States o...   2010-11-24   591794936   \n",
      "7  [{\"iso_3166_1\": \"US\", \"name\": \"United States o...   2015-04-22  1405403694   \n",
      "8  [{\"iso_3166_1\": \"GB\", \"name\": \"United Kingdom\"...   2009-07-07   933959197   \n",
      "9  [{\"iso_3166_1\": \"US\", \"name\": \"United States o...   2016-03-23   873260194   \n",
      "\n",
      "   runtime                                   spoken_languages    status  \\\n",
      "0    162.0  [{\"iso_639_1\": \"en\", \"name\": \"English\"}, {\"iso...  Released   \n",
      "1    169.0           [{\"iso_639_1\": \"en\", \"name\": \"English\"}]  Released   \n",
      "2    148.0  [{\"iso_639_1\": \"fr\", \"name\": \"Fran\\u00e7ais\"},...  Released   \n",
      "3    165.0           [{\"iso_639_1\": \"en\", \"name\": \"English\"}]  Released   \n",
      "4    132.0           [{\"iso_639_1\": \"en\", \"name\": \"English\"}]  Released   \n",
      "5    139.0  [{\"iso_639_1\": \"en\", \"name\": \"English\"}, {\"iso...  Released   \n",
      "6    100.0           [{\"iso_639_1\": \"en\", \"name\": \"English\"}]  Released   \n",
      "7    141.0           [{\"iso_639_1\": \"en\", \"name\": \"English\"}]  Released   \n",
      "8    153.0           [{\"iso_639_1\": \"en\", \"name\": \"English\"}]  Released   \n",
      "9    151.0           [{\"iso_639_1\": \"en\", \"name\": \"English\"}]  Released   \n",
      "\n",
      "                                          tagline  \\\n",
      "0                     Enter the World of Pandora.   \n",
      "1  At the end of the world, the adventure begins.   \n",
      "2                           A Plan No One Escapes   \n",
      "3                                 The Legend Ends   \n",
      "4            Lost in our world, found in another.   \n",
      "5                              The battle within.   \n",
      "6        They're taking adventure to new lengths.   \n",
      "7                             A New Age Has Come.   \n",
      "8                           Dark Secrets Revealed   \n",
      "9                              Justice or revenge   \n",
      "\n",
      "                                      title  vote_average  vote_count  \n",
      "0                                    Avatar           7.2       11800  \n",
      "1  Pirates of the Caribbean: At World's End           6.9        4500  \n",
      "2                                   Spectre           6.3        4466  \n",
      "3                     The Dark Knight Rises           7.6        9106  \n",
      "4                               John Carter           6.1        2124  \n",
      "5                              Spider-Man 3           5.9        3576  \n",
      "6                                   Tangled           7.4        3330  \n",
      "7                   Avengers: Age of Ultron           7.3        6767  \n",
      "8    Harry Potter and the Half-Blood Prince           7.4        5293  \n",
      "9        Batman v Superman: Dawn of Justice           5.7        7004  \n"
     ]
    }
   ],
   "source": [
    "pd.set_option('display.max_columns', None)  # يعرض كل الأعمدة بدون اختصار\n",
    "print(data.head(10))"
   ]
  },
  {
   "cell_type": "code",
   "execution_count": null,
   "id": "c40bbad8",
   "metadata": {},
   "outputs": [],
   "source": []
  },
  {
   "cell_type": "code",
   "execution_count": null,
   "id": "bed0c6a2",
   "metadata": {},
   "outputs": [],
   "source": []
  },
  {
   "cell_type": "code",
   "execution_count": null,
   "id": "0fa814ad",
   "metadata": {},
   "outputs": [],
   "source": []
  },
  {
   "cell_type": "markdown",
   "id": "1f10c844",
   "metadata": {},
   "source": [
    "##### Exploring data"
   ]
  },
  {
   "cell_type": "code",
   "execution_count": 6,
   "id": "996e6200",
   "metadata": {},
   "outputs": [
    {
     "name": "stdout",
     "output_type": "stream",
     "text": [
      "      budget                                             genres  \\\n",
      "0  237000000  [{\"id\": 28, \"name\": \"Action\"}, {\"id\": 12, \"nam...   \n",
      "1  300000000  [{\"id\": 12, \"name\": \"Adventure\"}, {\"id\": 14, \"...   \n",
      "2  245000000  [{\"id\": 28, \"name\": \"Action\"}, {\"id\": 12, \"nam...   \n",
      "3  250000000  [{\"id\": 28, \"name\": \"Action\"}, {\"id\": 80, \"nam...   \n",
      "4  260000000  [{\"id\": 28, \"name\": \"Action\"}, {\"id\": 12, \"nam...   \n",
      "\n",
      "                                       homepage      id  \\\n",
      "0                   http://www.avatarmovie.com/   19995   \n",
      "1  http://disney.go.com/disneypictures/pirates/     285   \n",
      "2   http://www.sonypictures.com/movies/spectre/  206647   \n",
      "3            http://www.thedarkknightrises.com/   49026   \n",
      "4          http://movies.disney.com/john-carter   49529   \n",
      "\n",
      "                                            keywords original_language  \\\n",
      "0  [{\"id\": 1463, \"name\": \"culture clash\"}, {\"id\":...                en   \n",
      "1  [{\"id\": 270, \"name\": \"ocean\"}, {\"id\": 726, \"na...                en   \n",
      "2  [{\"id\": 470, \"name\": \"spy\"}, {\"id\": 818, \"name...                en   \n",
      "3  [{\"id\": 849, \"name\": \"dc comics\"}, {\"id\": 853,...                en   \n",
      "4  [{\"id\": 818, \"name\": \"based on novel\"}, {\"id\":...                en   \n",
      "\n",
      "                             original_title  \\\n",
      "0                                    Avatar   \n",
      "1  Pirates of the Caribbean: At World's End   \n",
      "2                                   Spectre   \n",
      "3                     The Dark Knight Rises   \n",
      "4                               John Carter   \n",
      "\n",
      "                                            overview  popularity  \\\n",
      "0  In the 22nd century, a paraplegic Marine is di...  150.437577   \n",
      "1  Captain Barbossa, long believed to be dead, ha...  139.082615   \n",
      "2  A cryptic message from Bond’s past sends him o...  107.376788   \n",
      "3  Following the death of District Attorney Harve...  112.312950   \n",
      "4  John Carter is a war-weary, former military ca...   43.926995   \n",
      "\n",
      "                                production_companies  \\\n",
      "0  [{\"name\": \"Ingenious Film Partners\", \"id\": 289...   \n",
      "1  [{\"name\": \"Walt Disney Pictures\", \"id\": 2}, {\"...   \n",
      "2  [{\"name\": \"Columbia Pictures\", \"id\": 5}, {\"nam...   \n",
      "3  [{\"name\": \"Legendary Pictures\", \"id\": 923}, {\"...   \n",
      "4        [{\"name\": \"Walt Disney Pictures\", \"id\": 2}]   \n",
      "\n",
      "                                production_countries release_date     revenue  \\\n",
      "0  [{\"iso_3166_1\": \"US\", \"name\": \"United States o...   2009-12-10  2787965087   \n",
      "1  [{\"iso_3166_1\": \"US\", \"name\": \"United States o...   2007-05-19   961000000   \n",
      "2  [{\"iso_3166_1\": \"GB\", \"name\": \"United Kingdom\"...   2015-10-26   880674609   \n",
      "3  [{\"iso_3166_1\": \"US\", \"name\": \"United States o...   2012-07-16  1084939099   \n",
      "4  [{\"iso_3166_1\": \"US\", \"name\": \"United States o...   2012-03-07   284139100   \n",
      "\n",
      "   runtime                                   spoken_languages    status  \\\n",
      "0    162.0  [{\"iso_639_1\": \"en\", \"name\": \"English\"}, {\"iso...  Released   \n",
      "1    169.0           [{\"iso_639_1\": \"en\", \"name\": \"English\"}]  Released   \n",
      "2    148.0  [{\"iso_639_1\": \"fr\", \"name\": \"Fran\\u00e7ais\"},...  Released   \n",
      "3    165.0           [{\"iso_639_1\": \"en\", \"name\": \"English\"}]  Released   \n",
      "4    132.0           [{\"iso_639_1\": \"en\", \"name\": \"English\"}]  Released   \n",
      "\n",
      "                                          tagline  \\\n",
      "0                     Enter the World of Pandora.   \n",
      "1  At the end of the world, the adventure begins.   \n",
      "2                           A Plan No One Escapes   \n",
      "3                                 The Legend Ends   \n",
      "4            Lost in our world, found in another.   \n",
      "\n",
      "                                      title  vote_average  vote_count  \n",
      "0                                    Avatar           7.2       11800  \n",
      "1  Pirates of the Caribbean: At World's End           6.9        4500  \n",
      "2                                   Spectre           6.3        4466  \n",
      "3                     The Dark Knight Rises           7.6        9106  \n",
      "4                               John Carter           6.1        2124  \n"
     ]
    }
   ],
   "source": [
    "print(data.head())\n"
   ]
  },
  {
   "cell_type": "code",
   "execution_count": 8,
   "id": "746ca6f7",
   "metadata": {},
   "outputs": [
    {
     "name": "stdout",
     "output_type": "stream",
     "text": [
      "Index(['budget', 'genres', 'homepage', 'id', 'keywords', 'original_language',\n",
      "       'original_title', 'overview', 'popularity', 'production_companies',\n",
      "       'production_countries', 'release_date', 'revenue', 'runtime',\n",
      "       'spoken_languages', 'status', 'tagline', 'title', 'vote_average',\n",
      "       'vote_count'],\n",
      "      dtype='object')\n"
     ]
    }
   ],
   "source": [
    "print(data.columns)\n"
   ]
  },
  {
   "cell_type": "markdown",
   "id": "71816abe",
   "metadata": {},
   "source": [
    "### Check if any NANs in your dataset and fill them with a good filer ###"
   ]
  },
  {
   "cell_type": "code",
   "execution_count": 10,
   "id": "e5f9c8f0",
   "metadata": {},
   "outputs": [
    {
     "data": {
      "text/plain": [
       "budget                     0\n",
       "genres                     0\n",
       "homepage                3091\n",
       "id                         0\n",
       "keywords                   0\n",
       "original_language          0\n",
       "original_title             0\n",
       "overview                   3\n",
       "popularity                 0\n",
       "production_companies       0\n",
       "production_countries       0\n",
       "release_date               1\n",
       "revenue                    0\n",
       "runtime                    2\n",
       "spoken_languages           0\n",
       "status                     0\n",
       "tagline                  844\n",
       "title                      0\n",
       "vote_average               0\n",
       "vote_count                 0\n",
       "dtype: int64"
      ]
     },
     "execution_count": 10,
     "metadata": {},
     "output_type": "execute_result"
    }
   ],
   "source": [
    "data.isnull().sum()\n"
   ]
  },
  {
   "cell_type": "code",
   "execution_count": 12,
   "id": "d6fa9b10",
   "metadata": {},
   "outputs": [],
   "source": [
    "data['homepage'] = data['homepage'].fillna(\"Not Available\")\n",
    "data['tagline'] = data['tagline'].fillna(\"No Tagline\")\n",
    "data['overview'] = data['overview'].fillna(\"No Overview\")\n",
    "data['release_date'] = data['release_date'].fillna(\"Unknown Date\")\n",
    "data['runtime'] = data['runtime'].fillna(data['runtime'].mean())"
   ]
  },
  {
   "cell_type": "markdown",
   "id": "12f55f1b",
   "metadata": {},
   "source": [
    "### Discover the types of each columns and modify them if needed ###"
   ]
  },
  {
   "cell_type": "code",
   "execution_count": 13,
   "id": "b92120fe",
   "metadata": {},
   "outputs": [
    {
     "name": "stdout",
     "output_type": "stream",
     "text": [
      "budget                    int64\n",
      "genres                   object\n",
      "homepage                 object\n",
      "id                        int64\n",
      "keywords                 object\n",
      "original_language        object\n",
      "original_title           object\n",
      "overview                 object\n",
      "popularity              float64\n",
      "production_companies     object\n",
      "production_countries     object\n",
      "release_date             object\n",
      "revenue                   int64\n",
      "runtime                 float64\n",
      "spoken_languages         object\n",
      "status                   object\n",
      "tagline                  object\n",
      "title                    object\n",
      "vote_average            float64\n",
      "vote_count                int64\n",
      "dtype: object\n"
     ]
    }
   ],
   "source": [
    "print(data.dtypes)\n"
   ]
  },
  {
   "cell_type": "code",
   "execution_count": 14,
   "id": "6ada5837",
   "metadata": {},
   "outputs": [
    {
     "name": "stdout",
     "output_type": "stream",
     "text": [
      "budget                           int64\n",
      "genres                          object\n",
      "homepage                        object\n",
      "id                               int64\n",
      "keywords                        object\n",
      "original_language               object\n",
      "original_title                  object\n",
      "overview                        object\n",
      "popularity                     float64\n",
      "production_companies            object\n",
      "production_countries            object\n",
      "release_date            datetime64[ns]\n",
      "revenue                          int64\n",
      "runtime                          int64\n",
      "spoken_languages                object\n",
      "status                          object\n",
      "tagline                         object\n",
      "title                           object\n",
      "vote_average                   float64\n",
      "vote_count                       int64\n",
      "dtype: object\n"
     ]
    }
   ],
   "source": [
    "# تحويل عمود 'release_date' إلى datetime\n",
    "data['release_date'] = pd.to_datetime(data['release_date'], errors='coerce')\n",
    "\n",
    "# تحويل عمود 'runtime' إلى int إذا كان يمثل وقتًا\n",
    "data['runtime'] = data['runtime'].fillna(0).astype(int)  # إذا كانت هناك قيم مفقودة، نقوم بملئها بـ 0 أولًا\n",
    "\n",
    "# التحقق من الأنواع بعد التعديل\n",
    "print(data.dtypes)\n"
   ]
  },
  {
   "cell_type": "markdown",
   "id": "0d9cbbc6",
   "metadata": {},
   "source": [
    "### Give a very simple statistical analsys for the numerical columns ###"
   ]
  },
  {
   "cell_type": "code",
   "execution_count": 15,
   "id": "616b50c7-ef7f-4093-8e56-2c88a3297cf7",
   "metadata": {},
   "outputs": [
    {
     "name": "stdout",
     "output_type": "stream",
     "text": [
      "             budget             id   popularity  \\\n",
      "count  4.803000e+03    4803.000000  4803.000000   \n",
      "mean   2.904504e+07   57165.484281    21.492301   \n",
      "min    0.000000e+00       5.000000     0.000000   \n",
      "25%    7.900000e+05    9014.500000     4.668070   \n",
      "50%    1.500000e+07   14629.000000    12.921594   \n",
      "75%    4.000000e+07   58610.500000    28.313505   \n",
      "max    3.800000e+08  459488.000000   875.581305   \n",
      "std    4.072239e+07   88694.614033    31.816650   \n",
      "\n",
      "                        release_date       revenue      runtime  vote_average  \\\n",
      "count                           4802  4.803000e+03  4803.000000   4803.000000   \n",
      "mean   2002-12-27 23:45:54.352353280  8.226064e+07   106.875494      6.092172   \n",
      "min              1916-09-04 00:00:00  0.000000e+00     0.000000      0.000000   \n",
      "25%              1999-07-14 00:00:00  0.000000e+00    94.000000      5.600000   \n",
      "50%              2005-10-03 00:00:00  1.917000e+07   103.000000      6.200000   \n",
      "75%              2011-02-16 00:00:00  9.291719e+07   117.500000      6.800000   \n",
      "max              2017-02-03 00:00:00  2.787965e+09   338.000000     10.000000   \n",
      "std                              NaN  1.628571e+08    22.607232      1.194612   \n",
      "\n",
      "         vote_count  \n",
      "count   4803.000000  \n",
      "mean     690.217989  \n",
      "min        0.000000  \n",
      "25%       54.000000  \n",
      "50%      235.000000  \n",
      "75%      737.000000  \n",
      "max    13752.000000  \n",
      "std     1234.585891  \n"
     ]
    }
   ],
   "source": [
    "# إجراء التحليل الإحصائي البسيط للأعمدة العددية\n",
    "numerical_summary = data.describe()\n",
    "\n",
    "# عرض التحليل الإحصائي\n",
    "print(numerical_summary)\n"
   ]
  },
  {
   "cell_type": "code",
   "execution_count": null,
   "id": "0ecf153d",
   "metadata": {
    "scrolled": true
   },
   "outputs": [],
   "source": [
    "\n"
   ]
  },
  {
   "cell_type": "markdown",
   "id": "5f8e9b11",
   "metadata": {},
   "source": [
    "### Calculate the mean rate for [1999, 1980, 2004, 2017] the movies grouped by years ###"
   ]
  },
  {
   "cell_type": "code",
   "execution_count": 16,
   "id": "0d212174-0da9-40bd-958b-6304611673a0",
   "metadata": {},
   "outputs": [
    {
     "name": "stdout",
     "output_type": "stream",
     "text": [
      "  release_date    year  month   day  weekday\n",
      "0   2009-12-10  2009.0   12.0  10.0      3.0\n",
      "1   2007-05-19  2007.0    5.0  19.0      5.0\n",
      "2   2015-10-26  2015.0   10.0  26.0      0.0\n",
      "3   2012-07-16  2012.0    7.0  16.0      0.0\n",
      "4   2012-03-07  2012.0    3.0   7.0      2.0\n"
     ]
    }
   ],
   "source": [
    "# استخراج السنة والشهر واليوم من عمود 'release_date'\n",
    "data['year'] = data['release_date'].dt.year\n",
    "data['month'] = data['release_date'].dt.month\n",
    "data['day'] = data['release_date'].dt.day\n",
    "data['weekday'] = data['release_date'].dt.weekday  # يمثل اليوم في الأسبوع (0=الاثنين، 1=الثلاثاء، ... 6=الأحد)\n",
    "\n",
    "# طباعة الأعمدة الجديدة للتأكد\n",
    "print(data[['release_date', 'year', 'month', 'day', 'weekday']].head())\n"
   ]
  },
  {
   "cell_type": "code",
   "execution_count": 20,
   "id": "78b98f6f",
   "metadata": {
    "scrolled": true
   },
   "outputs": [
    {
     "name": "stdout",
     "output_type": "stream",
     "text": [
      "year\n",
      "1980    6.609091\n",
      "1999    6.110526\n",
      "2004    6.104412\n",
      "2017    7.400000\n",
      "Name: vote_average, dtype: float64\n"
     ]
    }
   ],
   "source": [
    "years = [1999, 1980, 2004, 2017]\n",
    "filtered_data = data[data['year'].isin(years)]\n",
    "\n",
    "# حساب المتوسط لتقييمات الأفلام حسب السنة\n",
    "mean_ratings_by_year = filtered_data.groupby('year')['vote_average'].mean()\n",
    "\n",
    "# عرض النتيجة\n",
    "print(mean_ratings_by_year)"
   ]
  },
  {
   "cell_type": "code",
   "execution_count": 19,
   "id": "8f3bce53-d1b8-46d2-bb58-572ec57fed6f",
   "metadata": {},
   "outputs": [],
   "source": [
    "# تحويل الأعمدة إلى نوع صحيح Int\n",
    "data['year'] = data['year'].astype('Int64')\n",
    "data['month'] = data['month'].astype('Int64')\n",
    "data['day'] = data['day'].astype('Int64')\n"
   ]
  },
  {
   "cell_type": "code",
   "execution_count": null,
   "id": "ad2663ea-eab5-4562-830d-40093aa8ffe3",
   "metadata": {},
   "outputs": [],
   "source": []
  },
  {
   "cell_type": "markdown",
   "id": "edf582bd",
   "metadata": {},
   "source": [
    "### Rearange the dataframe based on revenue - budget values ###"
   ]
  },
  {
   "cell_type": "code",
   "execution_count": 21,
   "id": "117093cb",
   "metadata": {
    "scrolled": true
   },
   "outputs": [
    {
     "data": {
      "text/html": [
       "<div>\n",
       "<style scoped>\n",
       "    .dataframe tbody tr th:only-of-type {\n",
       "        vertical-align: middle;\n",
       "    }\n",
       "\n",
       "    .dataframe tbody tr th {\n",
       "        vertical-align: top;\n",
       "    }\n",
       "\n",
       "    .dataframe thead th {\n",
       "        text-align: right;\n",
       "    }\n",
       "</style>\n",
       "<table border=\"1\" class=\"dataframe\">\n",
       "  <thead>\n",
       "    <tr style=\"text-align: right;\">\n",
       "      <th></th>\n",
       "      <th>title</th>\n",
       "      <th>revenue</th>\n",
       "      <th>budget</th>\n",
       "      <th>profit</th>\n",
       "    </tr>\n",
       "  </thead>\n",
       "  <tbody>\n",
       "    <tr>\n",
       "      <th>0</th>\n",
       "      <td>Avatar</td>\n",
       "      <td>2787965087</td>\n",
       "      <td>237000000</td>\n",
       "      <td>2550965087</td>\n",
       "    </tr>\n",
       "    <tr>\n",
       "      <th>25</th>\n",
       "      <td>Titanic</td>\n",
       "      <td>1845034188</td>\n",
       "      <td>200000000</td>\n",
       "      <td>1645034188</td>\n",
       "    </tr>\n",
       "    <tr>\n",
       "      <th>28</th>\n",
       "      <td>Jurassic World</td>\n",
       "      <td>1513528810</td>\n",
       "      <td>150000000</td>\n",
       "      <td>1363528810</td>\n",
       "    </tr>\n",
       "    <tr>\n",
       "      <th>44</th>\n",
       "      <td>Furious 7</td>\n",
       "      <td>1506249360</td>\n",
       "      <td>190000000</td>\n",
       "      <td>1316249360</td>\n",
       "    </tr>\n",
       "    <tr>\n",
       "      <th>16</th>\n",
       "      <td>The Avengers</td>\n",
       "      <td>1519557910</td>\n",
       "      <td>220000000</td>\n",
       "      <td>1299557910</td>\n",
       "    </tr>\n",
       "    <tr>\n",
       "      <th>7</th>\n",
       "      <td>Avengers: Age of Ultron</td>\n",
       "      <td>1405403694</td>\n",
       "      <td>280000000</td>\n",
       "      <td>1125403694</td>\n",
       "    </tr>\n",
       "    <tr>\n",
       "      <th>124</th>\n",
       "      <td>Frozen</td>\n",
       "      <td>1274219009</td>\n",
       "      <td>150000000</td>\n",
       "      <td>1124219009</td>\n",
       "    </tr>\n",
       "    <tr>\n",
       "      <th>546</th>\n",
       "      <td>Minions</td>\n",
       "      <td>1156730962</td>\n",
       "      <td>74000000</td>\n",
       "      <td>1082730962</td>\n",
       "    </tr>\n",
       "    <tr>\n",
       "      <th>329</th>\n",
       "      <td>The Lord of the Rings: The Return of the King</td>\n",
       "      <td>1118888979</td>\n",
       "      <td>94000000</td>\n",
       "      <td>1024888979</td>\n",
       "    </tr>\n",
       "    <tr>\n",
       "      <th>31</th>\n",
       "      <td>Iron Man 3</td>\n",
       "      <td>1215439994</td>\n",
       "      <td>200000000</td>\n",
       "      <td>1015439994</td>\n",
       "    </tr>\n",
       "  </tbody>\n",
       "</table>\n",
       "</div>"
      ],
      "text/plain": [
       "                                             title     revenue     budget  \\\n",
       "0                                           Avatar  2787965087  237000000   \n",
       "25                                         Titanic  1845034188  200000000   \n",
       "28                                  Jurassic World  1513528810  150000000   \n",
       "44                                       Furious 7  1506249360  190000000   \n",
       "16                                    The Avengers  1519557910  220000000   \n",
       "7                          Avengers: Age of Ultron  1405403694  280000000   \n",
       "124                                         Frozen  1274219009  150000000   \n",
       "546                                        Minions  1156730962   74000000   \n",
       "329  The Lord of the Rings: The Return of the King  1118888979   94000000   \n",
       "31                                      Iron Man 3  1215439994  200000000   \n",
       "\n",
       "         profit  \n",
       "0    2550965087  \n",
       "25   1645034188  \n",
       "28   1363528810  \n",
       "44   1316249360  \n",
       "16   1299557910  \n",
       "7    1125403694  \n",
       "124  1124219009  \n",
       "546  1082730962  \n",
       "329  1024888979  \n",
       "31   1015439994  "
      ]
     },
     "execution_count": 21,
     "metadata": {},
     "output_type": "execute_result"
    }
   ],
   "source": [
    "data['profit'] = data['revenue'] - data['budget']  # إنشاء عمود جديد للربح\n",
    "sorted_data = data.sort_values(by='profit', ascending=False)  # ترتيب تنازلي\n",
    "sorted_data[['title', 'revenue', 'budget', 'profit']].head(10)  # عرض أفضل 10 أفلام ربحاً\n"
   ]
  },
  {
   "cell_type": "markdown",
   "id": "57d706a4",
   "metadata": {},
   "source": [
    "### Allocate the year with the largest movies released in ['Action', 'Romance'] ###"
   ]
  },
  {
   "cell_type": "code",
   "execution_count": 22,
   "id": "dbf522b9",
   "metadata": {},
   "outputs": [
    {
     "name": "stdout",
     "output_type": "stream",
     "text": [
      "أكثر سنة تم فيها إصدار أفلام Action أو Romance هي 2009 بعدد أفلام = 108\n"
     ]
    }
   ],
   "source": [
    "# التأكد إن السنة موجودة\n",
    "if 'year' not in data.columns:\n",
    "    data['release_date'] = pd.to_datetime(data['release_date'], errors='coerce')\n",
    "    data['year'] = data['release_date'].dt.year\n",
    "\n",
    "# تصفية الأفلام التي تحتوي على النوعين المطلوبين\n",
    "selected_genres = data[data['genres'].str.contains('Action|Romance', na=False)]\n",
    "\n",
    "# حساب عدد الأفلام لكل سنة\n",
    "genre_year_counts = selected_genres['year'].value_counts()\n",
    "\n",
    "# استخراج السنة التي فيها أكبر عدد\n",
    "max_year = genre_year_counts.idxmax()\n",
    "max_count = genre_year_counts.max()\n",
    "\n",
    "print(f\"أكثر سنة تم فيها إصدار أفلام Action أو Romance هي {max_year} بعدد أفلام = {max_count}\")\n"
   ]
  },
  {
   "cell_type": "code",
   "execution_count": null,
   "id": "c84b3ef9",
   "metadata": {},
   "outputs": [],
   "source": []
  },
  {
   "cell_type": "markdown",
   "id": "21446eed",
   "metadata": {},
   "source": [
    "### Find the movies with top 5 revenue - budget value ###"
   ]
  },
  {
   "cell_type": "code",
   "execution_count": 23,
   "id": "b4dd7309",
   "metadata": {
    "scrolled": true
   },
   "outputs": [
    {
     "name": "stdout",
     "output_type": "stream",
     "text": [
      "             title     budget     revenue      profit\n",
      "0           Avatar  237000000  2787965087  2550965087\n",
      "25         Titanic  200000000  1845034188  1645034188\n",
      "28  Jurassic World  150000000  1513528810  1363528810\n",
      "44       Furious 7  190000000  1506249360  1316249360\n",
      "16    The Avengers  220000000  1519557910  1299557910\n"
     ]
    }
   ],
   "source": [
    "# إنشاء عمود جديد للربح (revenue - budget)\n",
    "data['profit'] = data['revenue'] - data['budget']\n",
    "\n",
    "# ترتيب حسب الربح تنازلياً، واستخراج أول 5 أفلام\n",
    "top_5_profit = data.sort_values(by='profit', ascending=False).head(5)\n",
    "\n",
    "# عرض النتائج\n",
    "print(top_5_profit[['title', 'budget', 'revenue', 'profit']])\n"
   ]
  },
  {
   "cell_type": "code",
   "execution_count": null,
   "id": "74517a71",
   "metadata": {},
   "outputs": [],
   "source": []
  },
  {
   "cell_type": "code",
   "execution_count": null,
   "id": "9362b406",
   "metadata": {
    "scrolled": true
   },
   "outputs": [],
   "source": []
  },
  {
   "cell_type": "markdown",
   "id": "e90d6e26",
   "metadata": {},
   "source": [
    "### Find the year with the highest number of movies release ###"
   ]
  },
  {
   "cell_type": "code",
   "execution_count": 24,
   "id": "fd638931",
   "metadata": {},
   "outputs": [
    {
     "name": "stdout",
     "output_type": "stream",
     "text": [
      "The year with the highest number of movie releases is 2009 with 247 movies.\n"
     ]
    }
   ],
   "source": [
    "# حساب عدد الأفلام في كل سنة\n",
    "movies_per_year = data['year'].value_counts()\n",
    "\n",
    "# عرض السنة اللي فيها أكبر عدد أفلام\n",
    "most_movies_year = movies_per_year.idxmax()\n",
    "count = movies_per_year.max()\n",
    "\n",
    "print(f\"The year with the highest number of movie releases is {most_movies_year} with {count} movies.\")\n"
   ]
  },
  {
   "cell_type": "code",
   "execution_count": null,
   "id": "8ae0da0e",
   "metadata": {
    "scrolled": true
   },
   "outputs": [],
   "source": []
  },
  {
   "cell_type": "markdown",
   "id": "09dc39c8",
   "metadata": {},
   "source": [
    "### Find the top 2 countries with the highest production movies number ###"
   ]
  },
  {
   "cell_type": "code",
   "execution_count": 25,
   "id": "f5d4edda",
   "metadata": {
    "scrolled": true
   },
   "outputs": [
    {
     "name": "stdout",
     "output_type": "stream",
     "text": [
      "Top 2 countries with highest number of movies produced:\n",
      "country_list\n",
      "United States of America    3956\n",
      "United Kingdom               636\n",
      "Name: count, dtype: int64\n"
     ]
    }
   ],
   "source": [
    "import ast\n",
    "\n",
    "# استخراج الدول من عمود production_countries\n",
    "def extract_countries(row):\n",
    "    try:\n",
    "        countries = ast.literal_eval(row)\n",
    "        return [c['name'] for c in countries]\n",
    "    except:\n",
    "        return []\n",
    "\n",
    "# تطبيق الدالة\n",
    "data['country_list'] = data['production_countries'].apply(extract_countries)\n",
    "\n",
    "# تفجير القائمة داخل العامود (explode)\n",
    "exploded = data.explode('country_list')\n",
    "\n",
    "# حساب عدد الأفلام حسب الدولة\n",
    "top_countries = exploded['country_list'].value_counts().head(2)\n",
    "\n",
    "print(\"Top 2 countries with highest number of movies produced:\")\n",
    "print(top_countries)\n"
   ]
  },
  {
   "cell_type": "markdown",
   "id": "4bcee5ee",
   "metadata": {},
   "source": [
    "### Find the top 1 company with the highest production movies number ###\n",
    "\n"
   ]
  },
  {
   "cell_type": "code",
   "execution_count": 26,
   "id": "6a1c8af2",
   "metadata": {},
   "outputs": [
    {
     "name": "stdout",
     "output_type": "stream",
     "text": [
      "Top 1 company with the highest number of movies produced:\n",
      "company_list\n",
      "Warner Bros.    319\n",
      "Name: count, dtype: int64\n"
     ]
    }
   ],
   "source": [
    "import ast\n",
    "\n",
    "# دالة لاستخراج الشركات من العمود\n",
    "def extract_companies(row):\n",
    "    try:\n",
    "        companies = ast.literal_eval(row)\n",
    "        return [c['name'] for c in companies]\n",
    "    except:\n",
    "        return []\n",
    "\n",
    "# تطبيق الدالة على العمود\n",
    "data['company_list'] = data['production_companies'].apply(extract_companies)\n",
    "\n",
    "# تفجير كل شركة في صف منفصل\n",
    "exploded_companies = data.explode('company_list')\n",
    "\n",
    "# حساب عدد الأفلام المنتجة لكل شركة\n",
    "top_company = exploded_companies['company_list'].value_counts().head(1)\n",
    "\n",
    "print(\"Top 1 company with the highest number of movies produced:\")\n",
    "print(top_company)\n"
   ]
  },
  {
   "cell_type": "markdown",
   "id": "02264f2c",
   "metadata": {},
   "source": [
    "### Is there any relation between the runtime and average vote value ### **\n"
   ]
  },
  {
   "cell_type": "code",
   "execution_count": 27,
   "id": "6c158f84",
   "metadata": {},
   "outputs": [
    {
     "name": "stdout",
     "output_type": "stream",
     "text": [
      "Correlation between runtime and vote_average: 0.3740214055869421\n"
     ]
    }
   ],
   "source": [
    "# حساب معامل الارتباط بين runtime و vote_average\n",
    "correlation = data['runtime'].corr(data['vote_average'])\n",
    "print(f\"Correlation between runtime and vote_average: {correlation}\")\n"
   ]
  },
  {
   "cell_type": "code",
   "execution_count": null,
   "id": "d6567765",
   "metadata": {},
   "outputs": [],
   "source": []
  },
  {
   "cell_type": "code",
   "execution_count": null,
   "id": "1f74d6f6",
   "metadata": {},
   "outputs": [],
   "source": []
  },
  {
   "cell_type": "markdown",
   "id": "9ab1e88e",
   "metadata": {},
   "source": [
    "### Find the top 5 movies with the highest rate, and find if there anything common between them. ###\n",
    "\n"
   ]
  },
  {
   "cell_type": "code",
   "execution_count": 28,
   "id": "ac71514b",
   "metadata": {},
   "outputs": [
    {
     "name": "stdout",
     "output_type": "stream",
     "text": [
      "             original_title  vote_average\n",
      "4662         Little Big Top          10.0\n",
      "3519       Stiff Upper Lips          10.0\n",
      "4045  Dancer, Texas Pop. 81          10.0\n",
      "4247  Me You and Five Bucks          10.0\n",
      "3992              Sardaarji           9.5\n"
     ]
    }
   ],
   "source": [
    "\n",
    "# ترتيب البيانات بناءً على أعلى التقييمات واختيار أول 5 أفلام\n",
    "top_5_movies = data.sort_values(by='vote_average', ascending=False).head(5)\n",
    "\n",
    "# عرض أسماء الأفلام وأعلى التقييمات\n",
    "print(top_5_movies[['original_title', 'vote_average']])\n",
    "\n",
    "# ملاحظة إذا كان هناك شيء مشترك بين الأفلام الأعلى تقييمًا\n",
    "# يمكن أن تكون هذه الملاحظة بناءً على الفئة (genre)، اللغة الأصلية، الإنتاج، أو أي صفة أخرى.\n",
    "\n"
   ]
  },
  {
   "cell_type": "code",
   "execution_count": null,
   "id": "3cdf969b",
   "metadata": {
    "scrolled": true
   },
   "outputs": [],
   "source": []
  },
  {
   "cell_type": "code",
   "execution_count": null,
   "id": "090806fc",
   "metadata": {},
   "outputs": [],
   "source": []
  },
  {
   "cell_type": "code",
   "execution_count": null,
   "id": "5894d041",
   "metadata": {},
   "outputs": [],
   "source": []
  },
  {
   "cell_type": "code",
   "execution_count": null,
   "id": "b26a4980",
   "metadata": {},
   "outputs": [],
   "source": []
  },
  {
   "cell_type": "code",
   "execution_count": null,
   "id": "20b4ab59",
   "metadata": {},
   "outputs": [],
   "source": []
  },
  {
   "cell_type": "code",
   "execution_count": null,
   "id": "b88715d9",
   "metadata": {},
   "outputs": [],
   "source": []
  },
  {
   "cell_type": "markdown",
   "id": "9958d3ea",
   "metadata": {},
   "source": [
    "### Find the most unsuccessful movie along time in terms of revenue - budget ###\n",
    "\n"
   ]
  },
  {
   "cell_type": "code",
   "execution_count": 29,
   "id": "39eb9c98",
   "metadata": {
    "scrolled": true
   },
   "outputs": [
    {
     "name": "stdout",
     "output_type": "stream",
     "text": [
      "Most Unsuccessful Movie: The Lone Ranger\n",
      "Revenue: 89289910\n",
      "Budget: 255000000\n",
      "Revenue - Budget Difference: -165710090\n"
     ]
    }
   ],
   "source": [
    "# حساب الفرق بين الإيرادات والميزانية لكل فيلم\n",
    "data['revenue_budget_diff'] = data['revenue'] - data['budget']\n",
    "\n",
    "# العثور على الفيلم الذي لديه أكبر فرق سالب\n",
    "most_unsuccessful_movie = data.loc[data['revenue_budget_diff'].idxmin()]\n",
    "\n",
    "# عرض اسم الفيلم وأكبر خسارة\n",
    "print(f\"Most Unsuccessful Movie: {most_unsuccessful_movie['original_title']}\")\n",
    "print(f\"Revenue: {most_unsuccessful_movie['revenue']}\")\n",
    "print(f\"Budget: {most_unsuccessful_movie['budget']}\")\n",
    "print(f\"Revenue - Budget Difference: {most_unsuccessful_movie['revenue_budget_diff']}\")\n"
   ]
  },
  {
   "cell_type": "markdown",
   "id": "017409d7",
   "metadata": {},
   "source": [
    "### Rearange the dataframe based on vote_average column values ###\n",
    "\n"
   ]
  },
  {
   "cell_type": "code",
   "execution_count": 30,
   "id": "d5534675",
   "metadata": {
    "scrolled": true
   },
   "outputs": [
    {
     "name": "stdout",
     "output_type": "stream",
     "text": [
      "        budget                                             genres  \\\n",
      "4662         0                     [{\"id\": 35, \"name\": \"Comedy\"}]   \n",
      "3519         0                     [{\"id\": 35, \"name\": \"Comedy\"}]   \n",
      "4045         0  [{\"id\": 35, \"name\": \"Comedy\"}, {\"id\": 18, \"nam...   \n",
      "4247         1  [{\"id\": 10749, \"name\": \"Romance\"}, {\"id\": 35, ...   \n",
      "3992         0                                                 []   \n",
      "2386         0  [{\"id\": 37, \"name\": \"Western\"}, {\"id\": 28, \"na...   \n",
      "1881  25000000  [{\"id\": 18, \"name\": \"Drama\"}, {\"id\": 80, \"name...   \n",
      "2970  10500000  [{\"id\": 18, \"name\": \"Drama\"}, {\"id\": 35, \"name...   \n",
      "3337   6000000  [{\"id\": 18, \"name\": \"Drama\"}, {\"id\": 80, \"name...   \n",
      "2796         0  [{\"id\": 12, \"name\": \"Adventure\"}, {\"id\": 18, \"...   \n",
      "\n",
      "                          homepage      id  \\\n",
      "4662                 Not Available   40963   \n",
      "3519                 Not Available   89861   \n",
      "4045                 Not Available   78373   \n",
      "4247                 Not Available  361505   \n",
      "3992                 Not Available  346081   \n",
      "2386                 Not Available   69848   \n",
      "1881                 Not Available     278   \n",
      "2970                 Not Available   88641   \n",
      "3337  http://www.thegodfather.com/     238   \n",
      "2796                 Not Available   43867   \n",
      "\n",
      "                                               keywords original_language  \\\n",
      "4662        [{\"id\": 10183, \"name\": \"independent film\"}]                en   \n",
      "3519  [{\"id\": 131, \"name\": \"italy\"}, {\"id\": 8250, \"n...                en   \n",
      "4045  [{\"id\": 1415, \"name\": \"small town\"}, {\"id\": 15...                en   \n",
      "4247                                                 []                en   \n",
      "3992                                                 []                en   \n",
      "2386  [{\"id\": 6091, \"name\": \"war\"}, {\"id\": 6092, \"na...                en   \n",
      "1881  [{\"id\": 378, \"name\": \"prison\"}, {\"id\": 417, \"n...                en   \n",
      "2970                                                 []                en   \n",
      "3337  [{\"id\": 131, \"name\": \"italy\"}, {\"id\": 699, \"na...                en   \n",
      "2796  [{\"id\": 1930, \"name\": \"kidnapping\"}, {\"id\": 25...                en   \n",
      "\n",
      "                original_title  \\\n",
      "4662            Little Big Top   \n",
      "3519          Stiff Upper Lips   \n",
      "4045     Dancer, Texas Pop. 81   \n",
      "4247     Me You and Five Bucks   \n",
      "3992                 Sardaarji   \n",
      "2386            One Man's Hero   \n",
      "1881  The Shawshank Redemption   \n",
      "2970        There Goes My Baby   \n",
      "3337             The Godfather   \n",
      "2796     The Prisoner of Zenda   \n",
      "\n",
      "                                               overview  popularity  \\\n",
      "4662  An aging out of work clown returns to his smal...    0.092100   \n",
      "3519  Stiff Upper Lips is a broad parody of British ...    0.356495   \n",
      "4045  Four guys, best friends, have grown up togethe...    0.376662   \n",
      "4247  A womanizing yet lovable loser, Charlie, a wai...    0.094105   \n",
      "3992  A ghost hunter uses bottles to capture trouble...    0.296981   \n",
      "2386  One Man's Hero tells the little-known story of...    0.910529   \n",
      "1881  Framed in the 1940s for the double murder of h...  136.747729   \n",
      "2970  A group of high school seniors meets in the su...    0.037073   \n",
      "3337  Spanning the years 1945 to 1955, a chronicle o...  143.659698   \n",
      "2796  An Englishman on a Ruritarian holiday must imp...    4.021389   \n",
      "\n",
      "                                   production_companies  \\\n",
      "4662          [{\"name\": \"Fly High Films\", \"id\": 24248}]   \n",
      "3519                                                 []   \n",
      "4045  [{\"name\": \"HSX Films\", \"id\": 4714}, {\"name\": \"...   \n",
      "4247                                                 []   \n",
      "3992                                                 []   \n",
      "2386  [{\"name\": \"Filmax\", \"id\": 3631}, {\"name\": \"Sil...   \n",
      "1881  [{\"name\": \"Castle Rock Entertainment\", \"id\": 97}]   \n",
      "2970      [{\"name\": \"Nelson Entertainment\", \"id\": 365}]   \n",
      "3337  [{\"name\": \"Paramount Pictures\", \"id\": 4}, {\"na...   \n",
      "2796  [{\"name\": \"United Artists\", \"id\": 60}, {\"name\"...   \n",
      "\n",
      "                                   production_countries release_date  \\\n",
      "4662  [{\"iso_3166_1\": \"US\", \"name\": \"United States o...   2006-01-01   \n",
      "3519  [{\"iso_3166_1\": \"GB\", \"name\": \"United Kingdom\"...   1998-06-12   \n",
      "4045  [{\"iso_3166_1\": \"US\", \"name\": \"United States o...   1998-05-01   \n",
      "4247                                                 []   2015-07-07   \n",
      "3992            [{\"iso_3166_1\": \"IN\", \"name\": \"India\"}]   2015-06-26   \n",
      "2386  [{\"iso_3166_1\": \"US\", \"name\": \"United States o...   1999-08-02   \n",
      "1881  [{\"iso_3166_1\": \"US\", \"name\": \"United States o...   1994-09-23   \n",
      "2970  [{\"iso_3166_1\": \"US\", \"name\": \"United States o...   1994-09-02   \n",
      "3337  [{\"iso_3166_1\": \"US\", \"name\": \"United States o...   1972-03-14   \n",
      "2796  [{\"iso_3166_1\": \"US\", \"name\": \"United States o...   1937-09-03   \n",
      "\n",
      "        revenue  runtime                                   spoken_languages  \\\n",
      "4662          0        0           [{\"iso_639_1\": \"en\", \"name\": \"English\"}]   \n",
      "3519          0       99           [{\"iso_639_1\": \"en\", \"name\": \"English\"}]   \n",
      "4045     565592       97           [{\"iso_639_1\": \"en\", \"name\": \"English\"}]   \n",
      "4247          0       90                                                 []   \n",
      "3992          0        0                                                 []   \n",
      "2386          0      121           [{\"iso_639_1\": \"en\", \"name\": \"English\"}]   \n",
      "1881   28341469      142           [{\"iso_639_1\": \"en\", \"name\": \"English\"}]   \n",
      "2970     123509       99           [{\"iso_639_1\": \"en\", \"name\": \"English\"}]   \n",
      "3337  245066411      175  [{\"iso_639_1\": \"en\", \"name\": \"English\"}, {\"iso...   \n",
      "2796          0      101  [{\"iso_639_1\": \"es\", \"name\": \"Espa\\u00f1ol\"}, ...   \n",
      "\n",
      "        status                                            tagline  \\\n",
      "4662   Rumored                                         No Tagline   \n",
      "3519  Released                                         No Tagline   \n",
      "4045  Released       in the middle of nowhere they had everything   \n",
      "4247  Released               A story about second, second chances   \n",
      "3992  Released                                         No Tagline   \n",
      "2386  Released           One man's hero is another man's traitor.   \n",
      "1881  Released  Fear can hold you prisoner. Hope can set you f...   \n",
      "2970  Released                                         No Tagline   \n",
      "3337  Released                         An offer you can't refuse.   \n",
      "2796  Released       The most thrilling swordfight ever filmed...   \n",
      "\n",
      "                         title  vote_average  vote_count  year  month  day  \\\n",
      "4662            Little Big Top          10.0           1  2006      1    1   \n",
      "3519          Stiff Upper Lips          10.0           1  1998      6   12   \n",
      "4045     Dancer, Texas Pop. 81          10.0           1  1998      5    1   \n",
      "4247     Me You and Five Bucks          10.0           2  2015      7    7   \n",
      "3992                 Sardaarji           9.5           2  2015      6   26   \n",
      "2386            One Man's Hero           9.3           2  1999      8    2   \n",
      "1881  The Shawshank Redemption           8.5        8205  1994      9   23   \n",
      "2970        There Goes My Baby           8.5           2  1994      9    2   \n",
      "3337             The Godfather           8.4        5893  1972      3   14   \n",
      "2796     The Prisoner of Zenda           8.4          11  1937      9    3   \n",
      "\n",
      "      weekday     profit                               country_list  \\\n",
      "4662      6.0          0                 [United States of America]   \n",
      "3519      4.0          0                    [United Kingdom, India]   \n",
      "4045      4.0     565592                 [United States of America]   \n",
      "4247      1.0         -1                                         []   \n",
      "3992      4.0          0                                    [India]   \n",
      "2386      0.0          0  [United States of America, Mexico, Spain]   \n",
      "1881      4.0    3341469                 [United States of America]   \n",
      "2970      4.0  -10376491                 [United States of America]   \n",
      "3337      1.0  239066411                 [United States of America]   \n",
      "2796      4.0          0                 [United States of America]   \n",
      "\n",
      "                                           company_list  revenue_budget_diff  \n",
      "4662                                   [Fly High Films]                    0  \n",
      "3519                                                 []                    0  \n",
      "4045                     [HSX Films, Chase Productions]               565592  \n",
      "4247                                                 []                   -1  \n",
      "3992                                                 []                    0  \n",
      "2386  [Filmax, Silver Lion Films, Televisa S.A. de C...                    0  \n",
      "1881                        [Castle Rock Entertainment]              3341469  \n",
      "2970                             [Nelson Entertainment]            -10376491  \n",
      "3337           [Paramount Pictures, Alfran Productions]            239066411  \n",
      "2796  [United Artists, Selznick International Pictures]                    0  \n"
     ]
    }
   ],
   "source": [
    "# إعادة ترتيب البيانات بناءً على عمود vote_average\n",
    "data_sorted_by_vote_average = data.sort_values(by='vote_average', ascending=False)\n",
    "\n",
    "# عرض أول 10 صفوف بعد الترتيب\n",
    "print(data_sorted_by_vote_average.head(10))\n"
   ]
  },
  {
   "cell_type": "markdown",
   "id": "7d304506",
   "metadata": {},
   "source": [
    "### Rearange the dataframe based on runtime column values ###\n",
    "\n"
   ]
  },
  {
   "cell_type": "code",
   "execution_count": null,
   "id": "4f12608e",
   "metadata": {
    "scrolled": true
   },
   "outputs": [
    {
     "name": "stdout",
     "output_type": "stream",
     "text": [
      "        budget                                             genres  \\\n",
      "4662         0                     [{\"id\": 35, \"name\": \"Comedy\"}]   \n",
      "3519         0                     [{\"id\": 35, \"name\": \"Comedy\"}]   \n",
      "4045         0  [{\"id\": 35, \"name\": \"Comedy\"}, {\"id\": 18, \"nam...   \n",
      "4247         1  [{\"id\": 10749, \"name\": \"Romance\"}, {\"id\": 35, ...   \n",
      "3992         0                                                 []   \n",
      "2386         0  [{\"id\": 37, \"name\": \"Western\"}, {\"id\": 28, \"na...   \n",
      "1881  25000000  [{\"id\": 18, \"name\": \"Drama\"}, {\"id\": 80, \"name...   \n",
      "2970  10500000  [{\"id\": 18, \"name\": \"Drama\"}, {\"id\": 35, \"name...   \n",
      "3337   6000000  [{\"id\": 18, \"name\": \"Drama\"}, {\"id\": 80, \"name...   \n",
      "2796         0  [{\"id\": 12, \"name\": \"Adventure\"}, {\"id\": 18, \"...   \n",
      "\n",
      "                          homepage      id  \\\n",
      "4662                 Not Available   40963   \n",
      "3519                 Not Available   89861   \n",
      "4045                 Not Available   78373   \n",
      "4247                 Not Available  361505   \n",
      "3992                 Not Available  346081   \n",
      "2386                 Not Available   69848   \n",
      "1881                 Not Available     278   \n",
      "2970                 Not Available   88641   \n",
      "3337  http://www.thegodfather.com/     238   \n",
      "2796                 Not Available   43867   \n",
      "\n",
      "                                               keywords original_language  \\\n",
      "4662        [{\"id\": 10183, \"name\": \"independent film\"}]                en   \n",
      "3519  [{\"id\": 131, \"name\": \"italy\"}, {\"id\": 8250, \"n...                en   \n",
      "4045  [{\"id\": 1415, \"name\": \"small town\"}, {\"id\": 15...                en   \n",
      "4247                                                 []                en   \n",
      "3992                                                 []                en   \n",
      "2386  [{\"id\": 6091, \"name\": \"war\"}, {\"id\": 6092, \"na...                en   \n",
      "1881  [{\"id\": 378, \"name\": \"prison\"}, {\"id\": 417, \"n...                en   \n",
      "2970                                                 []                en   \n",
      "3337  [{\"id\": 131, \"name\": \"italy\"}, {\"id\": 699, \"na...                en   \n",
      "2796  [{\"id\": 1930, \"name\": \"kidnapping\"}, {\"id\": 25...                en   \n",
      "\n",
      "                original_title  \\\n",
      "4662            Little Big Top   \n",
      "3519          Stiff Upper Lips   \n",
      "4045     Dancer, Texas Pop. 81   \n",
      "4247     Me You and Five Bucks   \n",
      "3992                 Sardaarji   \n",
      "2386            One Man's Hero   \n",
      "1881  The Shawshank Redemption   \n",
      "2970        There Goes My Baby   \n",
      "3337             The Godfather   \n",
      "2796     The Prisoner of Zenda   \n",
      "\n",
      "                                               overview  popularity  \\\n",
      "4662  An aging out of work clown returns to his smal...    0.092100   \n",
      "3519  Stiff Upper Lips is a broad parody of British ...    0.356495   \n",
      "4045  Four guys, best friends, have grown up togethe...    0.376662   \n",
      "4247  A womanizing yet lovable loser, Charlie, a wai...    0.094105   \n",
      "3992  A ghost hunter uses bottles to capture trouble...    0.296981   \n",
      "2386  One Man's Hero tells the little-known story of...    0.910529   \n",
      "1881  Framed in the 1940s for the double murder of h...  136.747729   \n",
      "2970  A group of high school seniors meets in the su...    0.037073   \n",
      "3337  Spanning the years 1945 to 1955, a chronicle o...  143.659698   \n",
      "2796  An Englishman on a Ruritarian holiday must imp...    4.021389   \n",
      "\n",
      "                                   production_companies  \\\n",
      "4662          [{\"name\": \"Fly High Films\", \"id\": 24248}]   \n",
      "3519                                                 []   \n",
      "4045  [{\"name\": \"HSX Films\", \"id\": 4714}, {\"name\": \"...   \n",
      "4247                                                 []   \n",
      "3992                                                 []   \n",
      "2386  [{\"name\": \"Filmax\", \"id\": 3631}, {\"name\": \"Sil...   \n",
      "1881  [{\"name\": \"Castle Rock Entertainment\", \"id\": 97}]   \n",
      "2970      [{\"name\": \"Nelson Entertainment\", \"id\": 365}]   \n",
      "3337  [{\"name\": \"Paramount Pictures\", \"id\": 4}, {\"na...   \n",
      "2796  [{\"name\": \"United Artists\", \"id\": 60}, {\"name\"...   \n",
      "\n",
      "                                   production_countries release_date  \\\n",
      "4662  [{\"iso_3166_1\": \"US\", \"name\": \"United States o...   2006-01-01   \n",
      "3519  [{\"iso_3166_1\": \"GB\", \"name\": \"United Kingdom\"...   1998-06-12   \n",
      "4045  [{\"iso_3166_1\": \"US\", \"name\": \"United States o...   1998-05-01   \n",
      "4247                                                 []   2015-07-07   \n",
      "3992            [{\"iso_3166_1\": \"IN\", \"name\": \"India\"}]   2015-06-26   \n",
      "2386  [{\"iso_3166_1\": \"US\", \"name\": \"United States o...   1999-08-02   \n",
      "1881  [{\"iso_3166_1\": \"US\", \"name\": \"United States o...   1994-09-23   \n",
      "2970  [{\"iso_3166_1\": \"US\", \"name\": \"United States o...   1994-09-02   \n",
      "3337  [{\"iso_3166_1\": \"US\", \"name\": \"United States o...   1972-03-14   \n",
      "2796  [{\"iso_3166_1\": \"US\", \"name\": \"United States o...   1937-09-03   \n",
      "\n",
      "        revenue  runtime                                   spoken_languages  \\\n",
      "4662          0        0           [{\"iso_639_1\": \"en\", \"name\": \"English\"}]   \n",
      "3519          0       99           [{\"iso_639_1\": \"en\", \"name\": \"English\"}]   \n",
      "4045     565592       97           [{\"iso_639_1\": \"en\", \"name\": \"English\"}]   \n",
      "4247          0       90                                                 []   \n",
      "3992          0        0                                                 []   \n",
      "2386          0      121           [{\"iso_639_1\": \"en\", \"name\": \"English\"}]   \n",
      "1881   28341469      142           [{\"iso_639_1\": \"en\", \"name\": \"English\"}]   \n",
      "2970     123509       99           [{\"iso_639_1\": \"en\", \"name\": \"English\"}]   \n",
      "3337  245066411      175  [{\"iso_639_1\": \"en\", \"name\": \"English\"}, {\"iso...   \n",
      "2796          0      101  [{\"iso_639_1\": \"es\", \"name\": \"Espa\\u00f1ol\"}, ...   \n",
      "\n",
      "        status                                            tagline  \\\n",
      "4662   Rumored                                         No Tagline   \n",
      "3519  Released                                         No Tagline   \n",
      "4045  Released       in the middle of nowhere they had everything   \n",
      "4247  Released               A story about second, second chances   \n",
      "3992  Released                                         No Tagline   \n",
      "2386  Released           One man's hero is another man's traitor.   \n",
      "1881  Released  Fear can hold you prisoner. Hope can set you f...   \n",
      "2970  Released                                         No Tagline   \n",
      "3337  Released                         An offer you can't refuse.   \n",
      "2796  Released       The most thrilling swordfight ever filmed...   \n",
      "\n",
      "                         title  vote_average  vote_count  year  month  day  \\\n",
      "4662            Little Big Top          10.0           1  2006      1    1   \n",
      "3519          Stiff Upper Lips          10.0           1  1998      6   12   \n",
      "4045     Dancer, Texas Pop. 81          10.0           1  1998      5    1   \n",
      "4247     Me You and Five Bucks          10.0           2  2015      7    7   \n",
      "3992                 Sardaarji           9.5           2  2015      6   26   \n",
      "2386            One Man's Hero           9.3           2  1999      8    2   \n",
      "1881  The Shawshank Redemption           8.5        8205  1994      9   23   \n",
      "2970        There Goes My Baby           8.5           2  1994      9    2   \n",
      "3337             The Godfather           8.4        5893  1972      3   14   \n",
      "2796     The Prisoner of Zenda           8.4          11  1937      9    3   \n",
      "\n",
      "      weekday     profit                               country_list  \\\n",
      "4662      6.0          0                 [United States of America]   \n",
      "3519      4.0          0                    [United Kingdom, India]   \n",
      "4045      4.0     565592                 [United States of America]   \n",
      "4247      1.0         -1                                         []   \n",
      "3992      4.0          0                                    [India]   \n",
      "2386      0.0          0  [United States of America, Mexico, Spain]   \n",
      "1881      4.0    3341469                 [United States of America]   \n",
      "2970      4.0  -10376491                 [United States of America]   \n",
      "3337      1.0  239066411                 [United States of America]   \n",
      "2796      4.0          0                 [United States of America]   \n",
      "\n",
      "                                           company_list  revenue_budget_diff  \n",
      "4662                                   [Fly High Films]                    0  \n",
      "3519                                                 []                    0  \n",
      "4045                     [HSX Films, Chase Productions]               565592  \n",
      "4247                                                 []                   -1  \n",
      "3992                                                 []                    0  \n",
      "2386  [Filmax, Silver Lion Films, Televisa S.A. de C...                    0  \n",
      "1881                        [Castle Rock Entertainment]              3341469  \n",
      "2970                             [Nelson Entertainment]            -10376491  \n",
      "3337           [Paramount Pictures, Alfran Productions]            239066411  \n",
      "2796  [United Artists, Selznick International Pictures]                    0  \n"
     ]
    }
   ],
   "source": [
    "# إعادة ترتيب البيانات بناءً على عمود vote_average\n",
    "data_sorted_by_vote_average = data.sort_values(by='vote_average', ascending=False)\n",
    "\n",
    "# عرض أول 10 صفوف بعد الترتيب\n",
    "print(data_sorted_by_vote_average.head(10))\n"
   ]
  },
  {
   "cell_type": "markdown",
   "id": "1f665fac",
   "metadata": {},
   "source": [
    "### Find the top 5 successful years for the USA cinema based on the total income devided by number of movies  ###\n",
    "\n"
   ]
  },
  {
   "cell_type": "code",
   "execution_count": null,
   "id": "d1ff9315",
   "metadata": {
    "scrolled": true
   },
   "outputs": [
    {
     "name": "stdout",
     "output_type": "stream",
     "text": [
      "year\n",
      "2016    1.603217e+08\n",
      "1975    1.519088e+08\n",
      "1939    1.478438e+08\n",
      "2012    1.398315e+08\n",
      "1942    1.389548e+08\n",
      "dtype: float64\n"
     ]
    }
   ],
   "source": [
    "# فلترة البيانات للحصول على الأفلام التي تم إنتاجها في الولايات المتحدة\n",
    "usa_movies = data[data['production_countries'].str.contains(\"United States of America\", na=False)]\n",
    "\n",
    "# حساب إجمالي الدخل لكل سنة\n",
    "total_income_by_year = usa_movies.groupby('year')['revenue'].sum()\n",
    "\n",
    "# حساب عدد الأفلام المنتجة في كل سنة\n",
    "movies_count_by_year = usa_movies.groupby('year')['id'].count()\n",
    "\n",
    "# حساب الدخل لكل فيلم (إجمالي الدخل ÷ عدد الأفلام)\n",
    "income_per_movie = total_income_by_year / movies_count_by_year\n",
    "\n",
    "# ترتيب السنوات بناءً على الدخل لكل فيلم\n",
    "top_5_years = income_per_movie.sort_values(ascending=False).head(5)\n",
    "\n",
    "# عرض أفضل 5 سنوات\n",
    "print(top_5_years)\n"
   ]
  },
  {
   "cell_type": "markdown",
   "id": "aef73665",
   "metadata": {},
   "source": [
    "### Find the most succesfull movie in [USA, UK] ###\n",
    "\n"
   ]
  },
  {
   "cell_type": "code",
   "execution_count": 33,
   "id": "03bfeff7",
   "metadata": {},
   "outputs": [
    {
     "name": "stdout",
     "output_type": "stream",
     "text": [
      "  original_title  net_revenue  \\\n",
      "0         Avatar   2550965087   \n",
      "\n",
      "                                production_countries  \n",
      "0  [{\"iso_3166_1\": \"US\", \"name\": \"United States o...  \n"
     ]
    },
    {
     "name": "stderr",
     "output_type": "stream",
     "text": [
      "C:\\Users\\malawy\\AppData\\Local\\Temp\\ipykernel_22384\\754875638.py:5: SettingWithCopyWarning: \n",
      "A value is trying to be set on a copy of a slice from a DataFrame.\n",
      "Try using .loc[row_indexer,col_indexer] = value instead\n",
      "\n",
      "See the caveats in the documentation: https://pandas.pydata.org/pandas-docs/stable/user_guide/indexing.html#returning-a-view-versus-a-copy\n",
      "  us_uk_movies['net_revenue'] = us_uk_movies['revenue'] - us_uk_movies['budget']\n"
     ]
    }
   ],
   "source": [
    "# فلترة الأفلام التي تم إنتاجها في الولايات المتحدة أو المملكة المتحدة\n",
    "us_uk_movies = data[data['production_countries'].str.contains(\"United States of America|United Kingdom\", na=False)]\n",
    "\n",
    "# حساب الإيرادات الصافية (إيرادات - ميزانية)\n",
    "us_uk_movies['net_revenue'] = us_uk_movies['revenue'] - us_uk_movies['budget']\n",
    "\n",
    "# ترتيب الأفلام بناءً على الإيرادات الصافية من الأعلى إلى الأدنى\n",
    "most_successful_movie = us_uk_movies.sort_values(by='net_revenue', ascending=False).head(1)\n",
    "\n",
    "# عرض الفيلم الأكثر نجاحًا\n",
    "print(most_successful_movie[['original_title', 'net_revenue', 'production_countries']])\n"
   ]
  },
  {
   "cell_type": "code",
   "execution_count": null,
   "id": "1b66db5a",
   "metadata": {},
   "outputs": [],
   "source": []
  },
  {
   "cell_type": "markdown",
   "id": "44973df0",
   "metadata": {},
   "source": [
    "### In your opinion what is the highest variable that affects the revenue value (high coloration) ### PONUS\n",
    "\n"
   ]
  },
  {
   "cell_type": "code",
   "execution_count": null,
   "id": "662f16fd",
   "metadata": {},
   "outputs": [],
   "source": []
  },
  {
   "cell_type": "code",
   "execution_count": null,
   "id": "194ae58f",
   "metadata": {},
   "outputs": [],
   "source": []
  },
  {
   "cell_type": "markdown",
   "id": "51ed13e3",
   "metadata": {},
   "source": [
    "## Good Luck"
   ]
  }
 ],
 "metadata": {
  "kernelspec": {
   "display_name": "Python 3",
   "language": "python",
   "name": "python3"
  },
  "language_info": {
   "codemirror_mode": {
    "name": "ipython",
    "version": 3
   },
   "file_extension": ".py",
   "mimetype": "text/x-python",
   "name": "python",
   "nbconvert_exporter": "python",
   "pygments_lexer": "ipython3",
   "version": "3.13.1"
  }
 },
 "nbformat": 4,
 "nbformat_minor": 5
}
