{
 "cells": [
  {
   "cell_type": "code",
   "execution_count": 1,
   "id": "a3b10588-4b33-4ffa-b318-558162a04358",
   "metadata": {},
   "outputs": [
    {
     "name": "stdout",
     "output_type": "stream",
     "text": [
      "the\n",
      "quick\n",
      "brown\n",
      "fox\n",
      "jumped\n",
      "over\n",
      "the\n",
      "lazy\n",
      "dog\n"
     ]
    }
   ],
   "source": [
    "#Use a for loop to take a list and print each element of the list in its own line.\n",
    "#sentence = [\"the\", \"quick\", \"brown\", \"fox\", \"jumped\", \"over\", \"the\", \"lazy\", \"dog\"]\n",
    "#Write a for loop to print out the sentence\n",
    "sentence = [\"the\", \"quick\", \"brown\", \"fox\", \"jumped\", \"over\", \"the\", \"lazy\", \"dog\"]\n",
    "for i in sentence:\n",
    "    print(i)\n",
    "\n",
    "\n"
   ]
  },
  {
   "cell_type": "code",
   "execution_count": 2,
   "id": "7bc5e6d5-54a4-47fe-a9df-d1a82bd04d5d",
   "metadata": {},
   "outputs": [
    {
     "name": "stdout",
     "output_type": "stream",
     "text": [
      "5\n",
      "10\n",
      "15\n",
      "20\n",
      "25\n",
      "30\n"
     ]
    }
   ],
   "source": [
    "#Multiples of 5\n",
    "#Write a for loop below that will print out every whole number that is a multiple of 5 and less than or equal to 30.\n",
    "for multi in range(5, 31, 5):\n",
    "    print(multi)"
   ]
  },
  {
   "cell_type": "code",
   "execution_count": null,
   "id": "b6f21a22-f75b-4392-9ecc-cd636a6ffb2b",
   "metadata": {},
   "outputs": [],
   "source": [
    "#easy password"
   ]
  },
  {
   "cell_type": "code",
   "execution_count": null,
   "id": "fc3d4c5a-03a7-4902-bff4-8ce39860334a",
   "metadata": {},
   "outputs": [],
   "source": [
    "#4difficultpasswpord\n"
   ]
  },
  {
   "cell_type": "code",
   "execution_count": 3,
   "id": "5bd6986d-2923-48b7-9758-7117645a269d",
   "metadata": {},
   "outputs": [
    {
     "name": "stdin",
     "output_type": "stream",
     "text": [
      "Enter the num 6\n"
     ]
    },
    {
     "name": "stdout",
     "output_type": "stream",
     "text": [
      "Factorial of 6 is 720\n"
     ]
    }
   ],
   "source": [
    "#4-Factorial Number\n",
    "#Factorials with While Loops\n",
    "#Find the factorial of a number using a while loop.\n",
    "#A factorial of a whole number is that number multiplied by every whole number between itself and 1. For example, 6 factorial (written \"6!\") equals 6 x 5 x 4 x 3 x 2 x 1 = 720. So 6! = 720.\n",
    "#We can write a while loop to take any given number and figure out what its factorial is.\n",
    "#Example: If number is 6, your code should compute and print the product, 720.\n",
    "\n",
    "\n",
    "#Factorials with For Loops\n",
    "#Now use a for loop to find the factorial!\n",
    "#It will now be great practice for you to try to revise the code you wrote above to find the factorial of a number, but this time, using a for loop. \n",
    "num = int(input('Enter the num'))\n",
    "fact = 1\n",
    "i = num\n",
    "while i > 0:\n",
    "    fact *= i\n",
    "    i -= 1\n",
    "\n",
    "print(f\"Factorial of {num} is {fact}\")\n"
   ]
  },
  {
   "cell_type": "code",
   "execution_count": null,
   "id": "fad28870-4dec-4851-ba94-e2a98d0fa04b",
   "metadata": {},
   "outputs": [],
   "source": []
  }
 ],
 "metadata": {
  "kernelspec": {
   "display_name": "Python 3 (ipykernel)",
   "language": "python",
   "name": "python3"
  },
  "language_info": {
   "codemirror_mode": {
    "name": "ipython",
    "version": 3
   },
   "file_extension": ".py",
   "mimetype": "text/x-python",
   "name": "python",
   "nbconvert_exporter": "python",
   "pygments_lexer": "ipython3",
   "version": "3.13.1"
  }
 },
 "nbformat": 4,
 "nbformat_minor": 5
}
