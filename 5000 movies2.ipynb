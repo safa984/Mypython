{
 "cells": [
  {
   "cell_type": "markdown",
   "id": "93888fd4",
   "metadata": {},
   "source": [
    "## Final Project\n",
    "### In order to solve this set of questions you will use the dataset in the relative directory ./tmdb_5000_movies.csv\n"
   ]
  },
  {
   "cell_type": "code",
   "execution_count": null,
   "id": "8127e1af",
   "metadata": {},
   "outputs": [],
   "source": []
  },
  {
   "cell_type": "markdown",
   "id": "10389df5",
   "metadata": {},
   "source": [
    "### Open Your CSV file and print the first 10 rows in a good format ###"
   ]
  },
  {
   "cell_type": "code",
   "execution_count": null,
   "id": "d5b09cac",
   "metadata": {
    "collapsed": true,
    "jupyter": {
     "outputs_hidden": true
    }
   },
   "outputs": [],
   "source": []
  },
  {
   "cell_type": "code",
   "execution_count": null,
   "id": "c40bbad8",
   "metadata": {},
   "outputs": [],
   "source": []
  },
  {
   "cell_type": "code",
   "execution_count": null,
   "id": "bed0c6a2",
   "metadata": {},
   "outputs": [],
   "source": []
  },
  {
   "cell_type": "code",
   "execution_count": null,
   "id": "0fa814ad",
   "metadata": {},
   "outputs": [],
   "source": []
  },
  {
   "cell_type": "markdown",
   "id": "1f10c844",
   "metadata": {},
   "source": [
    "##### Exploring data"
   ]
  },
  {
   "cell_type": "code",
   "execution_count": null,
   "id": "996e6200",
   "metadata": {},
   "outputs": [],
   "source": []
  },
  {
   "cell_type": "markdown",
   "id": "71816abe",
   "metadata": {},
   "source": [
    "### Check if any NANs in your dataset and fill them with a good filer ###"
   ]
  },
  {
   "cell_type": "code",
   "execution_count": null,
   "id": "fee35922",
   "metadata": {},
   "outputs": [],
   "source": []
  },
  {
   "cell_type": "code",
   "execution_count": 1,
   "id": "80c65e45",
   "metadata": {},
   "outputs": [
    {
     "data": {
      "text/plain": [
       "\"dataset.interpolate(method ='linear', limit_direction ='forward')\""
      ]
     },
     "execution_count": 1,
     "metadata": {},
     "output_type": "execute_result"
    }
   ],
   "source": [
    "\"\"\"\n",
    "We can fill the datasets by many ways. depending on the way we see the data. the filling method always depend on the \n",
    "understanding of the columns variables\n",
    "\"\"\"\n",
    "# mean is not always the best solution, if there is any outliers, it will be misleading. \n",
    "#more suitable with symmetric data distribution\n",
    "\"\"\"dataset.fillna(dataset.mean(), inplace = True) \"\"\"\n",
    "\n",
    "# median is a good solution with skewed data. but since we have categoricals variables I cannot use it\n",
    "\"\"\"dataset.fillna(dataset.median(), inplace = True)\"\"\"\n",
    "\n",
    "# also we can use linear interpolation to fill the nan data,\n",
    "# in this code snippet it will change the nan with the most suitable number, to follow the direction of increasing.\n",
    "\"\"\"dataset.interpolate(method ='linear', limit_direction ='forward')\"\"\""
   ]
  },
  {
   "cell_type": "code",
   "execution_count": null,
   "id": "d6fa9b10",
   "metadata": {},
   "outputs": [],
   "source": []
  },
  {
   "cell_type": "markdown",
   "id": "12f55f1b",
   "metadata": {},
   "source": [
    "### Discover the types of each columns and modify them if needed ###"
   ]
  },
  {
   "cell_type": "code",
   "execution_count": null,
   "id": "b92120fe",
   "metadata": {},
   "outputs": [],
   "source": []
  },
  {
   "cell_type": "markdown",
   "id": "0d9cbbc6",
   "metadata": {},
   "source": [
    "### Give a very simple statistical analsys for the numerical columns ###"
   ]
  },
  {
   "cell_type": "code",
   "execution_count": null,
   "id": "616b50c7-ef7f-4093-8e56-2c88a3297cf7",
   "metadata": {},
   "outputs": [],
   "source": []
  },
  {
   "cell_type": "code",
   "execution_count": null,
   "id": "0ecf153d",
   "metadata": {
    "scrolled": true
   },
   "outputs": [],
   "source": [
    "\n"
   ]
  },
  {
   "cell_type": "markdown",
   "id": "5f8e9b11",
   "metadata": {},
   "source": [
    "### Calculate the mean rate for [1999, 1980, 2004, 2017] the movies grouped by years ###"
   ]
  },
  {
   "cell_type": "code",
   "execution_count": null,
   "id": "0d212174-0da9-40bd-958b-6304611673a0",
   "metadata": {},
   "outputs": [],
   "source": []
  },
  {
   "cell_type": "code",
   "execution_count": null,
   "id": "78b98f6f",
   "metadata": {
    "scrolled": true
   },
   "outputs": [],
   "source": []
  },
  {
   "cell_type": "code",
   "execution_count": null,
   "id": "8f3bce53-d1b8-46d2-bb58-572ec57fed6f",
   "metadata": {},
   "outputs": [],
   "source": []
  },
  {
   "cell_type": "code",
   "execution_count": null,
   "id": "ad2663ea-eab5-4562-830d-40093aa8ffe3",
   "metadata": {},
   "outputs": [],
   "source": []
  },
  {
   "cell_type": "markdown",
   "id": "edf582bd",
   "metadata": {},
   "source": [
    "### Rearange the dataframe based on revenue - budget values ###"
   ]
  },
  {
   "cell_type": "code",
   "execution_count": null,
   "id": "117093cb",
   "metadata": {
    "scrolled": true
   },
   "outputs": [],
   "source": []
  },
  {
   "cell_type": "markdown",
   "id": "57d706a4",
   "metadata": {},
   "source": [
    "### Allocate the year with the largest movies released in ['Action', 'Romance'] ###"
   ]
  },
  {
   "cell_type": "code",
   "execution_count": null,
   "id": "dbf522b9",
   "metadata": {},
   "outputs": [],
   "source": []
  },
  {
   "cell_type": "code",
   "execution_count": null,
   "id": "c84b3ef9",
   "metadata": {},
   "outputs": [],
   "source": []
  },
  {
   "cell_type": "markdown",
   "id": "21446eed",
   "metadata": {},
   "source": [
    "### Find the movies with top 5 revenue - budget value ###"
   ]
  },
  {
   "cell_type": "code",
   "execution_count": null,
   "id": "b4dd7309",
   "metadata": {
    "scrolled": true
   },
   "outputs": [],
   "source": []
  },
  {
   "cell_type": "code",
   "execution_count": null,
   "id": "74517a71",
   "metadata": {},
   "outputs": [],
   "source": []
  },
  {
   "cell_type": "code",
   "execution_count": null,
   "id": "9362b406",
   "metadata": {
    "scrolled": true
   },
   "outputs": [],
   "source": []
  },
  {
   "cell_type": "markdown",
   "id": "e90d6e26",
   "metadata": {},
   "source": [
    "### Find the year with the highest number of movies release ###"
   ]
  },
  {
   "cell_type": "code",
   "execution_count": null,
   "id": "fd638931",
   "metadata": {},
   "outputs": [],
   "source": []
  },
  {
   "cell_type": "code",
   "execution_count": null,
   "id": "8ae0da0e",
   "metadata": {
    "scrolled": true
   },
   "outputs": [],
   "source": []
  },
  {
   "cell_type": "markdown",
   "id": "09dc39c8",
   "metadata": {},
   "source": [
    "### Find the top 2 countries with the highest production movies number ###"
   ]
  },
  {
   "cell_type": "code",
   "execution_count": null,
   "id": "f5d4edda",
   "metadata": {
    "scrolled": true
   },
   "outputs": [],
   "source": []
  },
  {
   "cell_type": "markdown",
   "id": "4bcee5ee",
   "metadata": {},
   "source": [
    "### Find the top 1 company with the highest production movies number ###\n",
    "\n"
   ]
  },
  {
   "cell_type": "code",
   "execution_count": null,
   "id": "6a1c8af2",
   "metadata": {},
   "outputs": [],
   "source": []
  },
  {
   "cell_type": "markdown",
   "id": "02264f2c",
   "metadata": {},
   "source": [
    "### Is there any relation between the runtime and average vote value ### **\n"
   ]
  },
  {
   "cell_type": "code",
   "execution_count": null,
   "id": "6c158f84",
   "metadata": {},
   "outputs": [],
   "source": []
  },
  {
   "cell_type": "code",
   "execution_count": null,
   "id": "d6567765",
   "metadata": {},
   "outputs": [],
   "source": []
  },
  {
   "cell_type": "code",
   "execution_count": null,
   "id": "1f74d6f6",
   "metadata": {},
   "outputs": [],
   "source": []
  },
  {
   "cell_type": "markdown",
   "id": "9ab1e88e",
   "metadata": {},
   "source": [
    "### Find the top 5 movies with the highest rate, and find if there anything common between them. ###\n",
    "\n"
   ]
  },
  {
   "cell_type": "code",
   "execution_count": null,
   "id": "ac71514b",
   "metadata": {},
   "outputs": [],
   "source": [
    "\n",
    "\n"
   ]
  },
  {
   "cell_type": "code",
   "execution_count": null,
   "id": "3cdf969b",
   "metadata": {
    "scrolled": true
   },
   "outputs": [],
   "source": []
  },
  {
   "cell_type": "code",
   "execution_count": null,
   "id": "090806fc",
   "metadata": {},
   "outputs": [],
   "source": []
  },
  {
   "cell_type": "code",
   "execution_count": null,
   "id": "5894d041",
   "metadata": {},
   "outputs": [],
   "source": []
  },
  {
   "cell_type": "code",
   "execution_count": null,
   "id": "b26a4980",
   "metadata": {},
   "outputs": [],
   "source": []
  },
  {
   "cell_type": "code",
   "execution_count": null,
   "id": "20b4ab59",
   "metadata": {},
   "outputs": [],
   "source": []
  },
  {
   "cell_type": "code",
   "execution_count": null,
   "id": "b88715d9",
   "metadata": {},
   "outputs": [],
   "source": []
  },
  {
   "cell_type": "markdown",
   "id": "9958d3ea",
   "metadata": {},
   "source": [
    "### Find the most unsuccessful movie along time in terms of revenue - budget ###\n",
    "\n"
   ]
  },
  {
   "cell_type": "code",
   "execution_count": null,
   "id": "39eb9c98",
   "metadata": {
    "scrolled": true
   },
   "outputs": [],
   "source": []
  },
  {
   "cell_type": "markdown",
   "id": "017409d7",
   "metadata": {},
   "source": [
    "### Rearange the dataframe based on vote_average column values ###\n",
    "\n"
   ]
  },
  {
   "cell_type": "code",
   "execution_count": null,
   "id": "d5534675",
   "metadata": {
    "scrolled": true
   },
   "outputs": [],
   "source": []
  },
  {
   "cell_type": "markdown",
   "id": "7d304506",
   "metadata": {},
   "source": [
    "### Rearange the dataframe based on runtime column values ###\n",
    "\n"
   ]
  },
  {
   "cell_type": "code",
   "execution_count": null,
   "id": "4f12608e",
   "metadata": {
    "scrolled": true
   },
   "outputs": [],
   "source": []
  },
  {
   "cell_type": "markdown",
   "id": "1f665fac",
   "metadata": {},
   "source": [
    "### Find the top 5 successful years for the USA cinema based on the total income devided by number of movies  ###\n",
    "\n"
   ]
  },
  {
   "cell_type": "code",
   "execution_count": null,
   "id": "d1ff9315",
   "metadata": {
    "scrolled": true
   },
   "outputs": [],
   "source": []
  },
  {
   "cell_type": "markdown",
   "id": "aef73665",
   "metadata": {},
   "source": [
    "### Find the most succesfull movie in [USA, UK] ###\n",
    "\n"
   ]
  },
  {
   "cell_type": "code",
   "execution_count": null,
   "id": "03bfeff7",
   "metadata": {},
   "outputs": [],
   "source": []
  },
  {
   "cell_type": "code",
   "execution_count": null,
   "id": "1b66db5a",
   "metadata": {},
   "outputs": [],
   "source": []
  },
  {
   "cell_type": "markdown",
   "id": "44973df0",
   "metadata": {},
   "source": [
    "### In your opinion what is the highest variable that affects the revenue value (high coloration) ### PONUS\n",
    "\n"
   ]
  },
  {
   "cell_type": "code",
   "execution_count": null,
   "id": "662f16fd",
   "metadata": {},
   "outputs": [],
   "source": []
  },
  {
   "cell_type": "code",
   "execution_count": null,
   "id": "194ae58f",
   "metadata": {},
   "outputs": [],
   "source": []
  },
  {
   "cell_type": "markdown",
   "id": "51ed13e3",
   "metadata": {},
   "source": [
    "## Good Luck"
   ]
  }
 ],
 "metadata": {
  "kernelspec": {
   "display_name": "Python 3",
   "language": "python",
   "name": "python3"
  },
  "language_info": {
   "codemirror_mode": {
    "name": "ipython",
    "version": 3
   },
   "file_extension": ".py",
   "mimetype": "text/x-python",
   "name": "python",
   "nbconvert_exporter": "python",
   "pygments_lexer": "ipython3",
   "version": "3.11.2"
  }
 },
 "nbformat": 4,
 "nbformat_minor": 5
}
